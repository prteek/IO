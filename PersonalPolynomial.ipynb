{
 "cells": [
  {
   "cell_type": "markdown",
   "metadata": {
    "colab_type": "text",
    "id": "JvlYVNfzTe-c"
   },
   "source": [
    "# Personal polynomial"
   ]
  },
  {
   "cell_type": "code",
   "execution_count": 1,
   "metadata": {
    "colab": {},
    "colab_type": "code",
    "id": "GqvfwDQ3Te-i"
   },
   "outputs": [],
   "source": [
    "name = \"Prateek\""
   ]
  },
  {
   "cell_type": "code",
   "execution_count": 2,
   "metadata": {
    "colab": {},
    "colab_type": "code",
    "id": "ZJdtQZIITe-u",
    "outputId": "bac09d17-edb9-4ee2-b9a0-61481f47f72f"
   },
   "outputs": [],
   "source": [
    "import string\n",
    "import matplotlib.pyplot as plt\n",
    "import numpy as np\n",
    "from fractions import Fraction\n",
    "\n",
    "# extract only alphabets from name (just in case)\n",
    "name_lower           = [char for char in name.lower() if char.isalpha()]\n",
    "degree_of_poly       = len(name_lower) -1\n",
    "\n",
    "alphabets            = list(string.ascii_lowercase)\n",
    "\n",
    "y = [i+1 for letter in name_lower for i, alphabet in enumerate(alphabets) if letter==alphabet]\n",
    "x = [i+1 for i in range(degree_of_poly+1)]\n",
    "\n",
    "z = np.polyfit(x, y, degree_of_poly)\n",
    "coefficients = [str(round(Fraction(i),3)) for i in z]\n",
    "\n",
    "f = np.poly1d(z)\n",
    "# calculate new x's and y's\n",
    "x_new = np.linspace(x[0], x[-1], 50)\n",
    "y_new = f(x_new)\n",
    "\n",
    "\n",
    "plt.scatter(x,y)\n",
    "# label each point\n",
    "for letter, x_i, y_i in zip(name_lower,x,y):\n",
    "    plt.annotate(letter, \n",
    "                 xy=(x_i,y_i), # Put the label with its point\n",
    "                 xytext=(10,-10), # but slightly offset\n",
    "                 textcoords='offset points')\n",
    "plt.plot(x_new, y_new)\n",
    "plt.title(\"Your personal polynomial\")\n",
    "plt.grid()"
   ]
  },
  {
   "cell_type": "code",
   "execution_count": 3,
   "metadata": {
    "colab": {},
    "colab_type": "code",
    "id": "yw-Qy8StTe-2",
    "outputId": "d9b93f4b-60ef-4def-f8b4-4888a827bb03"
   },
   "outputs": [
    {
     "name": "stdout",
     "output_type": "stream",
     "text": [
      "Your Personal Polynomial: -117/200 x**6 + 14313/1000 x**5 + -27607/200 x**4 + 331927/500 x**3 + -1653881/1000 x**2 + 1980333/1000 x**1 + -850 \n"
     ]
    }
   ],
   "source": [
    "string = \"\"\n",
    "for i, coeff in enumerate(coefficients):\n",
    "    string = string + coeff + \" x**\" + str(degree_of_poly-i) + \" + \"\n",
    "\n",
    "string = string[:-7]\n",
    "\n",
    "print(\"Your Personal Polynomial:\", string)"
   ]
  }
 ],
 "metadata": {
  "colab": {
   "collapsed_sections": [],
   "include_colab_link": true,
   "name": "PersonalPolynomial.ipynb",
   "provenance": [],
   "toc_visible": true,
   "version": "0.3.2"
  },
  "kernelspec": {
   "display_name": "Python 3",
   "language": "python",
   "name": "python3"
  },
  "language_info": {
   "codemirror_mode": {
    "name": "ipython",
    "version": 3
   },
   "file_extension": ".py",
   "mimetype": "text/x-python",
   "name": "python",
   "nbconvert_exporter": "python",
   "pygments_lexer": "ipython3",
   "version": "3.5.3"
  },
  "toc": {
   "base_numbering": 1,
   "nav_menu": {},
   "number_sections": false,
   "sideBar": true,
   "skip_h1_title": false,
   "title_cell": "Table of Contents",
   "title_sidebar": "Contents",
   "toc_cell": false,
   "toc_position": {},
   "toc_section_display": true,
   "toc_window_display": false
  },
  "varInspector": {
   "cols": {
    "lenName": 16,
    "lenType": 16,
    "lenVar": 40
   },
   "kernels_config": {
    "python": {
     "delete_cmd_postfix": "",
     "delete_cmd_prefix": "del ",
     "library": "var_list.py",
     "varRefreshCmd": "print(var_dic_list())"
    },
    "r": {
     "delete_cmd_postfix": ") ",
     "delete_cmd_prefix": "rm(",
     "library": "var_list.r",
     "varRefreshCmd": "cat(var_dic_list()) "
    }
   },
   "types_to_exclude": [
    "module",
    "function",
    "builtin_function_or_method",
    "instance",
    "_Feature"
   ],
   "window_display": false
  }
 },
 "nbformat": 4,
 "nbformat_minor": 1
}
