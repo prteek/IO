{
 "cells": [
  {
   "cell_type": "markdown",
   "metadata": {},
   "source": [
    "# Dash coin"
   ]
  },
  {
   "cell_type": "code",
   "execution_count": 76,
   "metadata": {},
   "outputs": [],
   "source": [
    "# User input *Refer https://www.coinwarz.com/cryptocurrency/coins/dash\n",
    "currentPrice       = 131; # [$/coin]\n",
    "calculationPeriod  = 1; # [days]\n",
    "hashRate           = 10500e6; # [Hashes/sec]\n",
    "blockReward        = 1.67279914; # [coins/block]\n",
    "difficulty         = 102015138.1383; # [-]\n",
    "maintenanceFee     = 0.000029; # [$/MH/day] \n",
    "contractPrice      = 247; # [$]\n",
    "contractDuration   = 2; # [years]"
   ]
  },
  {
   "cell_type": "code",
   "execution_count": 147,
   "metadata": {},
   "outputs": [],
   "source": [
    "# Calculations\n",
    "import numpy as np\n",
    "import matplotlib.pyplot as plt\n",
    "import math as math\n",
    "\n",
    "def estimatedProfitPerPeriod(currentPrice, calculationPeriod, hashRate, blockReward, difficulty, maintenanceFee):\n",
    "    secondsInCalculationPeriod  = 3600*24*calculationPeriod; # [sec]\n",
    "    totalMaintenanceFee         = float(hashRate)*maintenanceFee/1000000*calculationPeriod;\n",
    "    coinsPerPeriod              = float(hashRate)*float(secondsInCalculationPeriod)*blockReward/(difficulty*float(2**32))\n",
    "    estimatedProfit             = round(coinsPerPeriod*currentPrice - totalMaintenanceFee,2); # [$]\n",
    "    return estimatedProfit\n",
    "\n",
    "estimatedProfitVectorized   = np.vectorize(estimatedProfitPerPeriod);\n",
    "\n",
    "estimatedProfitPerDay       = estimatedProfitPerPeriod(currentPrice, calculationPeriod, hashRate, blockReward, difficulty, maintenanceFee);\n",
    "estimatedARR                = (abs(estimatedProfitPerDay*contractDuration*365/calculationPeriod - contractPrice)/contractPrice)**(1/contractDuration)*np.sign(estimatedProfitPerDay*contractDuration*365/calculationPeriod - contractPrice)\n",
    "\n"
   ]
  },
  {
   "cell_type": "code",
   "execution_count": 141,
   "metadata": {},
   "outputs": [
    {
     "name": "stdout",
     "output_type": "stream",
     "text": [
      "Profit per Day: 0.15\n",
      "Estimated ARR of Contract: -0.7461100199992758\n"
     ]
    }
   ],
   "source": [
    "# Results\n",
    "print(\"Profit per Day:\", estimatedProfitPerDay)\n",
    "print(\"Estimated ARR of Contract:\", estimatedARR)"
   ]
  },
  {
   "cell_type": "markdown",
   "metadata": {},
   "source": [
    "##### A new contract opened up after 1 year and the cost of investment was 55$. Because the current contract output can be re invested into this new contract an assessment of profitability had to be made"
   ]
  },
  {
   "cell_type": "code",
   "execution_count": 166,
   "metadata": {},
   "outputs": [],
   "source": [
    "# Inputs\n",
    "initialInvestment          = 55; # [$]\n",
    "newHashRate                = 5000e6; # [Hashes/sec]\n",
    "newMaintenanceFee          = 0.00001; # [$/MH/day] \n",
    "newContractDuration        = 2; # [years]\n",
    "timeLeftForCurrentContract = 1; # [years]"
   ]
  },
  {
   "cell_type": "code",
   "execution_count": 181,
   "metadata": {},
   "outputs": [],
   "source": [
    "# Calculations\n",
    "initialValueOfCurrentContract                = initialInvestment; # [$]\n",
    "initialValueOfNewContractAtStart             = 0; # [$]\n",
    "estimatedProfitPerDayNewContract             = estimatedProfitPerPeriod(currentPrice, calculationPeriod, newHashRate, blockReward, difficulty, newMaintenanceFee);\n",
    "timeCurrentContract                          = [i for i in range(timeLeftForCurrentContract*365)]; # [days]\n",
    "timeNewContractAfterCurrentContractExpires   = [i for i in range((newContractDuration - timeLeftForCurrentContract)*365)]; # [days]\n",
    "\n",
    "profitCurrentContract                        = initialValueOfCurrentContract + estimatedProfitVectorized(currentPrice, timeCurrentContract, hashRate, blockReward, difficulty, maintenanceFee);\n",
    "profitNewContractCommonTime                  = profitCurrentContract - initialValueOfCurrentContract + initialValueOfNewContractAtStart + estimatedProfitVectorized(currentPrice, timeCurrentContract, newHashRate, blockReward, difficulty, newMaintenanceFee);\n",
    "profitNewContractAfterCurrentContractExpires = profitNewContractCommonTime[-1] + estimatedProfitVectorized(currentPrice, timeNewContractAfterCurrentContractExpires, newHashRate, blockReward, difficulty, newMaintenanceFee);\n",
    "profitNewContract                            = [*profitNewContractCommonTime, *profitNewContractAfterCurrentContractExpires]; # [$]\n",
    "timeNewContract                              = [i for i in range(newContractDuration*365)];  \n"
   ]
  },
  {
   "cell_type": "code",
   "execution_count": 188,
   "metadata": {},
   "outputs": [
    {
     "data": {
      "image/png": "[encoded data removed]",
      "text/plain": [
       "<Figure size 432x288 with 1 Axes>"
      ]
     },
     "metadata": {
      "needs_background": "light"
     },
     "output_type": "display_data"
    }
   ],
   "source": [
    "# Comparison of profitability\n",
    "plt.plot(timeCurrentContract, profitCurrentContract, label='Current Contract')\n",
    "plt.plot(timeNewContract, profitNewContract, label='New Contract')\n",
    "plt.title(\"Comparison of profitability of Contracts\", size=14)\n",
    "plt.xlabel(\"Number of Days\")\n",
    "plt.ylabel(\"Profit in $\")\n",
    "plt.legend(loc='lower right')\n",
    "plt.grid()\n"
   ]
  },
  {
   "cell_type": "code",
   "execution_count": null,
   "metadata": {},
   "outputs": [],
   "source": []
  }
 ],
 "metadata": {
  "kernelspec": {
   "display_name": "Python 3",
   "language": "python",
   "name": "python3"
  },
  "language_info": {
   "codemirror_mode": {
    "name": "ipython",
    "version": 3
   },
   "file_extension": ".py",
   "mimetype": "text/x-python",
   "name": "python",
   "nbconvert_exporter": "python",
   "pygments_lexer": "ipython3",
   "version": "3.7.3"
  },
  "varInspector": {
   "cols": {
    "lenName": 16,
    "lenType": 16,
    "lenVar": 40
   },
   "kernels_config": {
    "python": {
     "delete_cmd_postfix": "",
     "delete_cmd_prefix": "del ",
     "library": "var_list.py",
     "varRefreshCmd": "print(var_dic_list())"
    },
    "r": {
     "delete_cmd_postfix": ") ",
     "delete_cmd_prefix": "rm(",
     "library": "var_list.r",
     "varRefreshCmd": "cat(var_dic_list()) "
    }
   },
   "position": {
    "height": "292px",
    "left": "1063px",
    "right": "20px",
    "top": "119px",
    "width": "357px"
   },
   "types_to_exclude": [
    "module",
    "function",
    "builtin_function_or_method",
    "instance",
    "_Feature"
   ],
   "window_display": false
  }
 },
 "nbformat": 4,
 "nbformat_minor": 2
}
