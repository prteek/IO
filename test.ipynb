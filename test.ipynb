{
 "cells": [
  {
   "cell_type": "code",
   "execution_count": null,
   "metadata": {},
   "outputs": [],
   "source": [
    "import random as r\n",
    "import matplotlib.pyplot as plt\n",
    "from numpy import arange, sin, cos, exp, pi\n",
    "plt.rcParams[\"figure.figsize\"] = 4,3    # size of plot in inches\n",
    " \n",
    "mf = npend = 4          # # of pendulums & maximum frequency\n",
    "sigma = 0.005           # frequency spread (from integer)\n",
    "step = 0.01         # step size\n",
    "steps = 40000           # # of steps\n",
    "linew = 2           # line width\n",
    "def xprint(name, value):    # convenience function to print params.\n",
    "    print(name+' '.join(['%.4f' % x for x in value]))\n",
    " \n",
    "t = arange(steps)*step      # time axis\n",
    "d = 1 - arange(steps)/steps # decay vector\n",
    "while True:\n",
    "    n = 5\n",
    "    if n != '': npend = int(n)\n",
    "    if npend == 0: break\n",
    "    n = 0.005\n",
    "    if n != '': sigma = float(n)\n",
    "    ax = [r.uniform(0, 1) for i in range(npend)]\n",
    "    ay = [r.uniform(0, 1) for i in range(npend)]\n",
    "    px = [r.uniform(0, 2*pi) for i in range(npend)]\n",
    "    py = [r.uniform(0, 2*pi) for i in range(npend)]\n",
    "    fx = [r.randint(1, mf) + r.gauss(0, sigma) for i in range(npend)]\n",
    "    fy = [r.randint(1, mf) + r.gauss(0, sigma) for i in range(npend)]\n",
    "    xprint('ax = ', ax); xprint('fx = ', fx); xprint('px = ', px)\n",
    "    xprint('ay = ', ay); xprint('fy = ', fy); xprint('py = ', py)\n",
    "    x = y = 0\n",
    "    for i in range(npend):\n",
    "        x += d * (ax[i] * sin(t * fx[i] + px[i]))\n",
    "        y += d * (ay[i] * sin(t * fy[i] + py[i]))\n",
    "    plt.figure(facecolor = 'white')\n",
    "    plt.plot(x, y, 'k', linewidth=1.5)\n",
    "    plt.axis('off')\n",
    "    plt.subplots_adjust(left=0.0, right=1.0, top=1.0, bottom=0.0)\n",
    "    plt.show(block=False)"
   ]
  },
  {
   "cell_type": "code",
   "execution_count": null,
   "metadata": {},
   "outputs": [],
   "source": []
  },
  {
   "cell_type": "code",
   "execution_count": null,
   "metadata": {},
   "outputs": [],
   "source": []
  },
  {
   "cell_type": "code",
   "execution_count": null,
   "metadata": {},
   "outputs": [],
   "source": []
  }
 ],
 "metadata": {
  "kernelspec": {
   "display_name": "Python 3",
   "language": "python",
   "name": "python3"
  },
  "varInspector": {
   "cols": {
    "lenName": 16,
    "lenType": 16,
    "lenVar": 40
   },
   "kernels_config": {
    "python": {
     "delete_cmd_postfix": "",
     "delete_cmd_prefix": "del ",
     "library": "var_list.py",
     "varRefreshCmd": "print(var_dic_list())"
    },
    "r": {
     "delete_cmd_postfix": ") ",
     "delete_cmd_prefix": "rm(",
     "library": "var_list.r",
     "varRefreshCmd": "cat(var_dic_list()) "
    }
   },
   "position": {
    "height": "249px",
    "left": "1059px",
    "right": "20px",
    "top": "118px",
    "width": "349px"
   },
   "types_to_exclude": [
    "module",
    "function",
    "builtin_function_or_method",
    "instance",
    "_Feature"
   ],
   "window_display": false
  }
 },
 "nbformat": 4,
 "nbformat_minor": 2
}
