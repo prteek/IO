{
 "cells": [
  {
   "cell_type": "markdown",
   "metadata": {
    "colab_type": "text",
    "id": "d5L7q1Edfdxu"
   },
   "source": [
    "# Prateek Patel\n",
    "#### Mathematical modelling and data science Engineer for Hybrid electric Vehicle development\n",
    "Contact  : prateekpatel.in@gmail.com <br>"
   ]
  },
  {
   "cell_type": "code",
   "execution_count": 1,
   "metadata": {
    "colab": {
     "base_uri": "https://localhost:8080/",
     "height": 617
    },
    "colab_type": "code",
    "id": "0UNUqSFwfdxx",
    "outputId": "7ebfc25b-1339-4e26-fc7b-91b84b6e9f51",
    "scrolled": false
   },
   "outputs": [
    {
     "data": {
      "text/html": [
       "<script type=\"text/javascript\">window.PlotlyConfig = {MathJaxConfig: 'local'};</script><script type=\"text/javascript\">if (window.MathJax) {MathJax.Hub.Config({SVG: {font: \"STIX-Web\"}});}</script><script>requirejs.config({paths: { 'plotly': ['https://cdn.plot.ly/plotly-latest.min']},});if(!window._Plotly) {require(['plotly'],function(plotly) {window._Plotly=plotly;});}</script>"
      ],
      "text/vnd.plotly.v1+html": [
       "<script type=\"text/javascript\">window.PlotlyConfig = {MathJaxConfig: 'local'};</script><script type=\"text/javascript\">if (window.MathJax) {MathJax.Hub.Config({SVG: {font: \"STIX-Web\"}});}</script><script>requirejs.config({paths: { 'plotly': ['https://cdn.plot.ly/plotly-latest.min']},});if(!window._Plotly) {require(['plotly'],function(plotly) {window._Plotly=plotly;});}</script>"
      ]
     },
     "metadata": {},
     "output_type": "display_data"
    },
    {
     "data": {
      "application/vnd.plotly.v1+json": {
       "config": {
        "linkText": "Export to plot.ly",
        "plotlyServerURL": "https://plot.ly",
        "showLink": false
       },
       "data": [
        {
         "marker": {
          "color": "white"
         },
         "name": "",
         "type": "scatter",
         "uid": "ef4a2820-736b-410f-b8d9-6893e4bff336",
         "x": [
          "2009-01",
          "2015-10"
         ],
         "y": [
          0,
          0
         ]
        },
        {
         "marker": {
          "color": "white"
         },
         "name": "",
         "type": "scatter",
         "uid": "f4288f55-2755-467a-bfb2-77003c531efc",
         "x": [
          "2015-10",
          "2016-04"
         ],
         "y": [
          1,
          1
         ]
        },
        {
         "marker": {
          "color": "white"
         },
         "name": "",
         "type": "scatter",
         "uid": "daebefd5-9896-461d-9fb3-2d541226a9c1",
         "x": [
          "2016-06",
          "2020"
         ],
         "y": [
          2,
          2
         ]
        }
       ],
       "layout": {
        "height": 600,
        "hovermode": "closest",
        "shapes": [
         {
          "fillcolor": "rgb(31, 119, 180)",
          "line": {
           "width": 0
          },
          "opacity": 1,
          "type": "rect",
          "x0": "2009-01",
          "x1": "2015-10",
          "xref": "x",
          "y0": -0.3,
          "y1": 0.3,
          "yref": "y"
         },
         {
          "fillcolor": "rgb(255, 127, 14)",
          "line": {
           "width": 0
          },
          "opacity": 1,
          "type": "rect",
          "x0": "2015-10",
          "x1": "2016-04",
          "xref": "x",
          "y0": 0.7,
          "y1": 1.3,
          "yref": "y"
         },
         {
          "fillcolor": "rgb(44, 160, 44)",
          "line": {
           "width": 0
          },
          "opacity": 1,
          "type": "rect",
          "x0": "2016-06",
          "x1": "2020",
          "xref": "x",
          "y0": 1.7,
          "y1": 2.3,
          "yref": "y"
         }
        ],
        "showlegend": false,
        "title": {
         "text": "Past Experience"
        },
        "width": 900,
        "xaxis": {
         "rangeselector": {
          "buttons": [
           {
            "count": 7,
            "label": "1w",
            "step": "day",
            "stepmode": "backward"
           },
           {
            "count": 1,
            "label": "1m",
            "step": "month",
            "stepmode": "backward"
           },
           {
            "count": 6,
            "label": "6m",
            "step": "month",
            "stepmode": "backward"
           },
           {
            "count": 1,
            "label": "YTD",
            "step": "year",
            "stepmode": "todate"
           },
           {
            "count": 1,
            "label": "1y",
            "step": "year",
            "stepmode": "backward"
           },
           {
            "step": "all"
           }
          ]
         },
         "showgrid": true,
         "type": "date",
         "zeroline": false
        },
        "yaxis": {
         "autorange": false,
         "range": [
          -1,
          4
         ],
         "showgrid": true,
         "ticktext": [
          "Maruti Suzuki",
          "Affluent [JLR]",
          "Altran [Ford]"
         ],
         "tickvals": [
          0,
          1,
          2
         ],
         "zeroline": false
        }
       }
      },
      "text/html": [
       "<div id=\"16051365-9169-48d6-83e9-51219bfb16dd\" style=\"height: 600px; width: 900px;\" class=\"plotly-graph-div\"></div><script type=\"text/javascript\">require([\"plotly\"], function(Plotly) { window.PLOTLYENV=window.PLOTLYENV || {};window.PLOTLYENV.BASE_URL=\"https://plot.ly\";\n",
       "if (document.getElementById(\"16051365-9169-48d6-83e9-51219bfb16dd\")) {\n",
       "    Plotly.newPlot(\"16051365-9169-48d6-83e9-51219bfb16dd\", [{\"y\": [0, 0], \"name\": \"\", \"uid\": \"ef4a2820-736b-410f-b8d9-6893e4bff336\", \"type\": \"scatter\", \"x\": [\"2009-01\", \"2015-10\"], \"marker\": {\"color\": \"white\"}}, {\"y\": [1, 1], \"name\": \"\", \"uid\": \"f4288f55-2755-467a-bfb2-77003c531efc\", \"type\": \"scatter\", \"x\": [\"2015-10\", \"2016-04\"], \"marker\": {\"color\": \"white\"}}, {\"y\": [2, 2], \"name\": \"\", \"uid\": \"daebefd5-9896-461d-9fb3-2d541226a9c1\", \"type\": \"scatter\", \"x\": [\"2016-06\", \"2020\"], \"marker\": {\"color\": \"white\"}}], {\"shapes\": [{\"xref\": \"x\", \"line\": {\"width\": 0}, \"y0\": -0.3, \"x0\": \"2009-01\", \"x1\": \"2015-10\", \"fillcolor\": \"rgb(31, 119, 180)\", \"type\": \"rect\", \"opacity\": 1, \"yref\": \"y\", \"y1\": 0.3}, {\"xref\": \"x\", \"line\": {\"width\": 0}, \"y0\": 0.7, \"x0\": \"2015-10\", \"x1\": \"2016-04\", \"fillcolor\": \"rgb(255, 127, 14)\", \"type\": \"rect\", \"opacity\": 1, \"yref\": \"y\", \"y1\": 1.3}, {\"xref\": \"x\", \"line\": {\"width\": 0}, \"y0\": 1.7, \"x0\": \"2016-06\", \"x1\": \"2020\", \"fillcolor\": \"rgb(44, 160, 44)\", \"type\": \"rect\", \"opacity\": 1, \"yref\": \"y\", \"y1\": 2.3}], \"height\": 600, \"title\": {\"text\": \"Past Experience\"}, \"yaxis\": {\"ticktext\": [\"Maruti Suzuki\", \"Affluent [JLR]\", \"Altran [Ford]\"], \"zeroline\": false, \"range\": [-1, 4], \"showgrid\": true, \"autorange\": false, \"tickvals\": [0, 1, 2]}, \"xaxis\": {\"zeroline\": false, \"showgrid\": true, \"rangeselector\": {\"buttons\": [{\"count\": 7, \"label\": \"1w\", \"stepmode\": \"backward\", \"step\": \"day\"}, {\"count\": 1, \"label\": \"1m\", \"stepmode\": \"backward\", \"step\": \"month\"}, {\"count\": 6, \"label\": \"6m\", \"stepmode\": \"backward\", \"step\": \"month\"}, {\"count\": 1, \"label\": \"YTD\", \"stepmode\": \"todate\", \"step\": \"year\"}, {\"count\": 1, \"label\": \"1y\", \"stepmode\": \"backward\", \"step\": \"year\"}, {\"step\": \"all\"}]}, \"type\": \"date\"}, \"showlegend\": false, \"width\": 900, \"hovermode\": \"closest\"}, {\"showLink\": false, \"linkText\": \"Export to plot.ly\", \"plotlyServerURL\": \"https://plot.ly\"}); \n",
       "}\n",
       "});</script>"
      ],
      "text/vnd.plotly.v1+html": [
       "<div id=\"16051365-9169-48d6-83e9-51219bfb16dd\" style=\"height: 600px; width: 900px;\" class=\"plotly-graph-div\"></div><script type=\"text/javascript\">require([\"plotly\"], function(Plotly) { window.PLOTLYENV=window.PLOTLYENV || {};window.PLOTLYENV.BASE_URL=\"https://plot.ly\";\n",
       "if (document.getElementById(\"16051365-9169-48d6-83e9-51219bfb16dd\")) {\n",
       "    Plotly.newPlot(\"16051365-9169-48d6-83e9-51219bfb16dd\", [{\"y\": [0, 0], \"name\": \"\", \"uid\": \"ef4a2820-736b-410f-b8d9-6893e4bff336\", \"type\": \"scatter\", \"x\": [\"2009-01\", \"2015-10\"], \"marker\": {\"color\": \"white\"}}, {\"y\": [1, 1], \"name\": \"\", \"uid\": \"f4288f55-2755-467a-bfb2-77003c531efc\", \"type\": \"scatter\", \"x\": [\"2015-10\", \"2016-04\"], \"marker\": {\"color\": \"white\"}}, {\"y\": [2, 2], \"name\": \"\", \"uid\": \"daebefd5-9896-461d-9fb3-2d541226a9c1\", \"type\": \"scatter\", \"x\": [\"2016-06\", \"2020\"], \"marker\": {\"color\": \"white\"}}], {\"shapes\": [{\"xref\": \"x\", \"line\": {\"width\": 0}, \"y0\": -0.3, \"x0\": \"2009-01\", \"x1\": \"2015-10\", \"fillcolor\": \"rgb(31, 119, 180)\", \"type\": \"rect\", \"opacity\": 1, \"yref\": \"y\", \"y1\": 0.3}, {\"xref\": \"x\", \"line\": {\"width\": 0}, \"y0\": 0.7, \"x0\": \"2015-10\", \"x1\": \"2016-04\", \"fillcolor\": \"rgb(255, 127, 14)\", \"type\": \"rect\", \"opacity\": 1, \"yref\": \"y\", \"y1\": 1.3}, {\"xref\": \"x\", \"line\": {\"width\": 0}, \"y0\": 1.7, \"x0\": \"2016-06\", \"x1\": \"2020\", \"fillcolor\": \"rgb(44, 160, 44)\", \"type\": \"rect\", \"opacity\": 1, \"yref\": \"y\", \"y1\": 2.3}], \"height\": 600, \"title\": {\"text\": \"Past Experience\"}, \"yaxis\": {\"ticktext\": [\"Maruti Suzuki\", \"Affluent [JLR]\", \"Altran [Ford]\"], \"zeroline\": false, \"range\": [-1, 4], \"showgrid\": true, \"autorange\": false, \"tickvals\": [0, 1, 2]}, \"xaxis\": {\"zeroline\": false, \"showgrid\": true, \"rangeselector\": {\"buttons\": [{\"count\": 7, \"label\": \"1w\", \"stepmode\": \"backward\", \"step\": \"day\"}, {\"count\": 1, \"label\": \"1m\", \"stepmode\": \"backward\", \"step\": \"month\"}, {\"count\": 6, \"label\": \"6m\", \"stepmode\": \"backward\", \"step\": \"month\"}, {\"count\": 1, \"label\": \"YTD\", \"stepmode\": \"todate\", \"step\": \"year\"}, {\"count\": 1, \"label\": \"1y\", \"stepmode\": \"backward\", \"step\": \"year\"}, {\"step\": \"all\"}]}, \"type\": \"date\"}, \"showlegend\": false, \"width\": 900, \"hovermode\": \"closest\"}, {\"showLink\": false, \"linkText\": \"Export to plot.ly\", \"plotlyServerURL\": \"https://plot.ly\"}); \n",
       "}\n",
       "});</script>"
      ]
     },
     "metadata": {},
     "output_type": "display_data"
    }
   ],
   "source": [
    "# Past Experience\n",
    "import plotly\n",
    "import plotly.figure_factory as ff\n",
    "plotly.offline.init_notebook_mode(connected=True)\n",
    "\n",
    "df = [dict(Task=\"Maruti Suzuki\", Start='2009-01', Finish='2015-10'),\n",
    "      dict(Task=\"Affluent [JLR]\", Start='2015-10', Finish='2016-04'),\n",
    "      dict(Task=\"Altran [Ford]\", Start='2016-06', Finish='2020')]\n",
    "\n",
    "fig = ff.create_gantt(df, title='Past Experience', bar_width=0.3, showgrid_x=True, showgrid_y=True)\n",
    "plotly.offline.iplot(fig, filename='Past Experience')"
   ]
  },
  {
   "cell_type": "code",
   "execution_count": 2,
   "metadata": {
    "colab": {
     "base_uri": "https://localhost:8080/",
     "height": 279
    },
    "colab_type": "code",
    "id": "5Lhh_P9yfdx2",
    "outputId": "c887204d-ac39-4366-b78a-11c2fb19501d"
   },
   "outputs": [
    {
     "data": {
      "text/plain": [
       "<Figure size 640x480 with 1 Axes>"
      ]
     },
     "metadata": {},
     "output_type": "display_data"
    }
   ],
   "source": [
    "# Skills\n",
    "skills = [(\"big data\", 20, 50), (\"python\", 50, 70), (\"matlab\", 100, 70),\n",
    "         (\"machine learning\", 20, 40), (\"stats\", 60, 80), (\"linux\", 50, 40),\n",
    "         (\"data science\", 70, 60), (\"math modelling\", 50, 90),\n",
    "         (\"project management\", 20, 20), (\"HEVs\", 100,80), ('GIT', 60,50)]\n",
    "\n",
    "from matplotlib import pyplot as plt\n",
    "\n",
    "def text_size(total):\n",
    "    return 8 + total / 200 * 20\n",
    "\n",
    "for skill, time, confidence in skills:\n",
    "    from matplotlib import pyplot as plt\n",
    "    plt.text(time, confidence, skill,\n",
    "            ha='center', va='center',\n",
    "            size=text_size(time + confidence))\n",
    "plt.title(\"Skills\", size=14)\n",
    "plt.xlabel(\"time spent\")\n",
    "plt.ylabel(\"confidence\")\n",
    "plt.axis([0, 100, 0, 100])\n",
    "plt.xticks([])\n",
    "plt.yticks([])\n",
    "plt.show()"
   ]
  }
 ],
 "metadata": {
  "colab": {
   "collapsed_sections": [],
   "include_colab_link": true,
   "name": "Profile.ipynb",
   "provenance": [],
   "version": "0.3.2"
  },
  "kernelspec": {
   "display_name": "Python 3",
   "language": "python",
   "name": "python3"
  },
  "language_info": {
   "codemirror_mode": {
    "name": "ipython",
    "version": 3
   },
   "file_extension": ".py",
   "mimetype": "text/x-python",
   "name": "python",
   "nbconvert_exporter": "python",
   "pygments_lexer": "ipython3",
   "version": "3.5.3"
  },
  "toc": {
   "base_numbering": 1,
   "nav_menu": {},
   "number_sections": false,
   "sideBar": true,
   "skip_h1_title": false,
   "title_cell": "Table of Contents",
   "title_sidebar": "Contents",
   "toc_cell": false,
   "toc_position": {},
   "toc_section_display": true,
   "toc_window_display": false
  },
  "varInspector": {
   "cols": {
    "lenName": 16,
    "lenType": 16,
    "lenVar": 40
   },
   "kernels_config": {
    "python": {
     "delete_cmd_postfix": "",
     "delete_cmd_prefix": "del ",
     "library": "var_list.py",
     "varRefreshCmd": "print(var_dic_list())"
    },
    "r": {
     "delete_cmd_postfix": ") ",
     "delete_cmd_prefix": "rm(",
     "library": "var_list.r",
     "varRefreshCmd": "cat(var_dic_list()) "
    }
   },
   "position": {
    "height": "317px",
    "left": "1120px",
    "right": "20px",
    "top": "120px",
    "width": "300px"
   },
   "types_to_exclude": [
    "module",
    "function",
    "builtin_function_or_method",
    "instance",
    "_Feature"
   ],
   "window_display": false
  }
 },
 "nbformat": 4,
 "nbformat_minor": 1
}
