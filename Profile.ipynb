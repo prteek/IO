{
  "nbformat": 4,
  "nbformat_minor": 0,
  "metadata": {
    "kernelspec": {
      "display_name": "Python 3",
      "language": "python",
      "name": "python3"
    },
    "language_info": {
      "codemirror_mode": {
        "name": "ipython",
        "version": 3
      },
      "file_extension": ".py",
      "mimetype": "text/x-python",
      "name": "python",
      "nbconvert_exporter": "python",
      "pygments_lexer": "ipython3",
      "version": "3.5.3"
    },
    "toc": {
      "base_numbering": 1,
      "nav_menu": {},
      "number_sections": false,
      "sideBar": true,
      "skip_h1_title": false,
      "title_cell": "Table of Contents",
      "title_sidebar": "Contents",
      "toc_cell": false,
      "toc_position": {},
      "toc_section_display": true,
      "toc_window_display": false
    },
    "varInspector": {
      "cols": {
        "lenName": 16,
        "lenType": 16,
        "lenVar": 40
      },
      "kernels_config": {
        "python": {
          "delete_cmd_postfix": "",
          "delete_cmd_prefix": "del ",
          "library": "var_list.py",
          "varRefreshCmd": "print(var_dic_list())"
        },
        "r": {
          "delete_cmd_postfix": ") ",
          "delete_cmd_prefix": "rm(",
          "library": "var_list.r",
          "varRefreshCmd": "cat(var_dic_list()) "
        }
      },
      "position": {
        "height": "317px",
        "left": "1120px",
        "right": "20px",
        "top": "120px",
        "width": "300px"
      },
      "types_to_exclude": [
        "module",
        "function",
        "builtin_function_or_method",
        "instance",
        "_Feature"
      ],
      "window_display": false
    },
    "colab": {
      "name": "Profile.ipynb",
      "version": "0.3.2",
      "provenance": [],
      "collapsed_sections": [],
      "include_colab_link": true
    }
  },
  "cells": [
    {
      "cell_type": "markdown",
      "metadata": {
        "id": "view-in-github",
        "colab_type": "text"
      },
      "source": [
        "<a href=\"https://colab.research.google.com/github/prteek/IO/blob/master/Profile.ipynb\" target=\"_parent\"><img src=\"https://colab.research.google.com/assets/colab-badge.svg\" alt=\"Open In Colab\"/></a>"
      ]
    },
    {
      "cell_type": "markdown",
      "metadata": {
        "id": "d5L7q1Edfdxu",
        "colab_type": "text"
      },
      "source": [
        "# Prateek Patel\n",
        "#### Mathematical modelling and data science Engineer for Hybrid electric Vehicle development\n",
        "Contact  : prateekpatel.in@gmail.com <br>"
      ]
    },
    {
      "cell_type": "code",
      "metadata": {
        "id": "ivLmLrjLPCHO",
        "colab_type": "code",
        "outputId": "0ece5655-eacb-4dc1-f81f-7c391ef4fe22",
        "colab": {
          "base_uri": "https://localhost:8080/",
          "height": 129
        }
      },
      "source": [
        "# This cell is not required to be executed (i.e. ignore any error) if Notebook is run locally or in Binder\n",
        "# Authorise and mount google drive to access code and data files\n",
        "import os\n",
        "from google.colab import drive\n",
        "drive.mount('/content/drive')\n",
        "project_folder = '/content/drive/My Drive/git_repos/Profile/'\n",
        "os.chdir(project_folder)"
      ],
      "execution_count": 1,
      "outputs": [
        {
          "output_type": "stream",
          "text": [
            "Go to this URL in a browser: https://accounts.google.com/o/oauth2/auth?client_id=947318989803-6bn6qk8qdgf4n4g3pfee6491hc0brc4i.apps.googleusercontent.com&redirect_uri=urn%3Aietf%3Awg%3Aoauth%3A2.0%3Aoob&scope=email%20https%3A%2F%2Fwww.googleapis.com%2Fauth%2Fdocs.test%20https%3A%2F%2Fwww.googleapis.com%2Fauth%2Fdrive%20https%3A%2F%2Fwww.googleapis.com%2Fauth%2Fdrive.photos.readonly%20https%3A%2F%2Fwww.googleapis.com%2Fauth%2Fpeopleapi.readonly&response_type=code\n",
            "\n",
            "Enter your authorization code:\n",
            "··········\n",
            "Mounted at /content/drive\n"
          ],
          "name": "stdout"
        }
      ]
    },
    {
      "cell_type": "code",
      "metadata": {
        "scrolled": false,
        "id": "0UNUqSFwfdxx",
        "colab_type": "code",
        "outputId": "7ebfc25b-1339-4e26-fc7b-91b84b6e9f51",
        "colab": {
          "base_uri": "https://localhost:8080/",
          "height": 617
        }
      },
      "source": [
        "# Past Experience\n",
        "import plotly\n",
        "import plotly.figure_factory as ff\n",
        "plotly.offline.init_notebook_mode(connected=True)\n",
        "\n",
        "df = [dict(Task=\"Maruti Suzuki\", Start='2009-01', Finish='2015-10'),\n",
        "      dict(Task=\"Affluent [JLR]\", Start='2015-10', Finish='2016-04'),\n",
        "      dict(Task=\"Altran [Ford]\", Start='2016-06', Finish='2020')]\n",
        "\n",
        "fig = ff.create_gantt(df, title='Past Experience', bar_width=0.3, showgrid_x=True, showgrid_y=True)\n",
        "plotly.offline.iplot(fig, filename='Past Experience')"
      ],
      "execution_count": 2,
      "outputs": [
        {
          "output_type": "display_data",
          "data": {
            "text/vnd.plotly.v1+html": "<script type=\"text/javascript\">window.PlotlyConfig = {MathJaxConfig: 'local'};</script><script type=\"text/javascript\">if (window.MathJax) {MathJax.Hub.Config({SVG: {font: \"STIX-Web\"}});}</script><script>requirejs.config({paths: { 'plotly': ['https://cdn.plot.ly/plotly-latest.min']},});if(!window._Plotly) {require(['plotly'],function(plotly) {window._Plotly=plotly;});}</script>",
            "text/html": [
              "<script type=\"text/javascript\">window.PlotlyConfig = {MathJaxConfig: 'local'};</script><script type=\"text/javascript\">if (window.MathJax) {MathJax.Hub.Config({SVG: {font: \"STIX-Web\"}});}</script><script>requirejs.config({paths: { 'plotly': ['https://cdn.plot.ly/plotly-latest.min']},});if(!window._Plotly) {require(['plotly'],function(plotly) {window._Plotly=plotly;});}</script>"
            ]
          },
          "metadata": {
            "tags": []
          }
        },
        {
          "output_type": "display_data",
          "data": {
            "text/vnd.plotly.v1+html": "<div id=\"9d0f3f9f-c863-4108-bc3f-53b9a2c79a5c\" style=\"height: 600px; width: 900px;\" class=\"plotly-graph-div\"></div><script type=\"text/javascript\">require([\"plotly\"], function(Plotly) { window.PLOTLYENV=window.PLOTLYENV || {};window.PLOTLYENV.BASE_URL=\"https://plot.ly\";Plotly.newPlot(\"9d0f3f9f-c863-4108-bc3f-53b9a2c79a5c\", [{\"marker\": {\"color\": \"white\"}, \"name\": \"\", \"x\": [\"2009-01\", \"2015-10\"], \"y\": [0, 0], \"type\": \"scatter\", \"uid\": \"46302721-9c39-4f3e-a1cf-9f06cdc9d7f4\"}, {\"marker\": {\"color\": \"white\"}, \"name\": \"\", \"x\": [\"2015-10\", \"2016-04\"], \"y\": [1, 1], \"type\": \"scatter\", \"uid\": \"afeab083-c195-45ae-97bf-2882804349b5\"}, {\"marker\": {\"color\": \"white\"}, \"name\": \"\", \"x\": [\"2016-06\", \"2020\"], \"y\": [2, 2], \"type\": \"scatter\", \"uid\": \"58704fbd-03a1-4f29-94f6-9a2b44f349ea\"}], {\"height\": 600, \"hovermode\": \"closest\", \"shapes\": [{\"fillcolor\": \"rgb(31, 119, 180)\", \"line\": {\"width\": 0}, \"opacity\": 1, \"type\": \"rect\", \"x0\": \"2009-01\", \"x1\": \"2015-10\", \"xref\": \"x\", \"y0\": -0.3, \"y1\": 0.3, \"yref\": \"y\"}, {\"fillcolor\": \"rgb(255, 127, 14)\", \"line\": {\"width\": 0}, \"opacity\": 1, \"type\": \"rect\", \"x0\": \"2015-10\", \"x1\": \"2016-04\", \"xref\": \"x\", \"y0\": 0.7, \"y1\": 1.3, \"yref\": \"y\"}, {\"fillcolor\": \"rgb(44, 160, 44)\", \"line\": {\"width\": 0}, \"opacity\": 1, \"type\": \"rect\", \"x0\": \"2016-06\", \"x1\": \"2020\", \"xref\": \"x\", \"y0\": 1.7, \"y1\": 2.3, \"yref\": \"y\"}], \"showlegend\": false, \"title\": {\"text\": \"Past Experience\"}, \"width\": 900, \"xaxis\": {\"rangeselector\": {\"buttons\": [{\"count\": 7, \"label\": \"1w\", \"step\": \"day\", \"stepmode\": \"backward\"}, {\"count\": 1, \"label\": \"1m\", \"step\": \"month\", \"stepmode\": \"backward\"}, {\"count\": 6, \"label\": \"6m\", \"step\": \"month\", \"stepmode\": \"backward\"}, {\"count\": 1, \"label\": \"YTD\", \"step\": \"year\", \"stepmode\": \"todate\"}, {\"count\": 1, \"label\": \"1y\", \"step\": \"year\", \"stepmode\": \"backward\"}, {\"step\": \"all\"}]}, \"showgrid\": true, \"type\": \"date\", \"zeroline\": false}, \"yaxis\": {\"autorange\": false, \"range\": [-1, 4], \"showgrid\": true, \"ticktext\": [\"Maruti Suzuki\", \"Affluent [JLR]\", \"Altran [Ford]\"], \"tickvals\": [0, 1, 2], \"zeroline\": false}}, {\"showLink\": false, \"linkText\": \"Export to plot.ly\", \"plotlyServerURL\": \"https://plot.ly\"})});</script>",
            "text/html": [
              "<div id=\"9d0f3f9f-c863-4108-bc3f-53b9a2c79a5c\" style=\"height: 600px; width: 900px;\" class=\"plotly-graph-div\"></div><script type=\"text/javascript\">require([\"plotly\"], function(Plotly) { window.PLOTLYENV=window.PLOTLYENV || {};window.PLOTLYENV.BASE_URL=\"https://plot.ly\";Plotly.newPlot(\"9d0f3f9f-c863-4108-bc3f-53b9a2c79a5c\", [{\"marker\": {\"color\": \"white\"}, \"name\": \"\", \"x\": [\"2009-01\", \"2015-10\"], \"y\": [0, 0], \"type\": \"scatter\", \"uid\": \"46302721-9c39-4f3e-a1cf-9f06cdc9d7f4\"}, {\"marker\": {\"color\": \"white\"}, \"name\": \"\", \"x\": [\"2015-10\", \"2016-04\"], \"y\": [1, 1], \"type\": \"scatter\", \"uid\": \"afeab083-c195-45ae-97bf-2882804349b5\"}, {\"marker\": {\"color\": \"white\"}, \"name\": \"\", \"x\": [\"2016-06\", \"2020\"], \"y\": [2, 2], \"type\": \"scatter\", \"uid\": \"58704fbd-03a1-4f29-94f6-9a2b44f349ea\"}], {\"height\": 600, \"hovermode\": \"closest\", \"shapes\": [{\"fillcolor\": \"rgb(31, 119, 180)\", \"line\": {\"width\": 0}, \"opacity\": 1, \"type\": \"rect\", \"x0\": \"2009-01\", \"x1\": \"2015-10\", \"xref\": \"x\", \"y0\": -0.3, \"y1\": 0.3, \"yref\": \"y\"}, {\"fillcolor\": \"rgb(255, 127, 14)\", \"line\": {\"width\": 0}, \"opacity\": 1, \"type\": \"rect\", \"x0\": \"2015-10\", \"x1\": \"2016-04\", \"xref\": \"x\", \"y0\": 0.7, \"y1\": 1.3, \"yref\": \"y\"}, {\"fillcolor\": \"rgb(44, 160, 44)\", \"line\": {\"width\": 0}, \"opacity\": 1, \"type\": \"rect\", \"x0\": \"2016-06\", \"x1\": \"2020\", \"xref\": \"x\", \"y0\": 1.7, \"y1\": 2.3, \"yref\": \"y\"}], \"showlegend\": false, \"title\": {\"text\": \"Past Experience\"}, \"width\": 900, \"xaxis\": {\"rangeselector\": {\"buttons\": [{\"count\": 7, \"label\": \"1w\", \"step\": \"day\", \"stepmode\": \"backward\"}, {\"count\": 1, \"label\": \"1m\", \"step\": \"month\", \"stepmode\": \"backward\"}, {\"count\": 6, \"label\": \"6m\", \"step\": \"month\", \"stepmode\": \"backward\"}, {\"count\": 1, \"label\": \"YTD\", \"step\": \"year\", \"stepmode\": \"todate\"}, {\"count\": 1, \"label\": \"1y\", \"step\": \"year\", \"stepmode\": \"backward\"}, {\"step\": \"all\"}]}, \"showgrid\": true, \"type\": \"date\", \"zeroline\": false}, \"yaxis\": {\"autorange\": false, \"range\": [-1, 4], \"showgrid\": true, \"ticktext\": [\"Maruti Suzuki\", \"Affluent [JLR]\", \"Altran [Ford]\"], \"tickvals\": [0, 1, 2], \"zeroline\": false}}, {\"showLink\": false, \"linkText\": \"Export to plot.ly\", \"plotlyServerURL\": \"https://plot.ly\"})});</script>"
            ],
            "application/vnd.plotly.v1+json": {
              "layout": {
                "showlegend": false,
                "title": {
                  "text": "Past Experience"
                },
                "yaxis": {
                  "showgrid": true,
                  "range": [
                    -1,
                    4
                  ],
                  "zeroline": false,
                  "ticktext": [
                    "Maruti Suzuki",
                    "Affluent [JLR]",
                    "Altran [Ford]"
                  ],
                  "autorange": false,
                  "tickvals": [
                    0,
                    1,
                    2
                  ]
                },
                "height": 600,
                "shapes": [
                  {
                    "opacity": 1,
                    "xref": "x",
                    "yref": "y",
                    "fillcolor": "rgb(31, 119, 180)",
                    "y1": 0.3,
                    "y0": -0.3,
                    "line": {
                      "width": 0
                    },
                    "x1": "2015-10",
                    "type": "rect",
                    "x0": "2009-01"
                  },
                  {
                    "opacity": 1,
                    "xref": "x",
                    "yref": "y",
                    "fillcolor": "rgb(255, 127, 14)",
                    "y1": 1.3,
                    "y0": 0.7,
                    "line": {
                      "width": 0
                    },
                    "x1": "2016-04",
                    "type": "rect",
                    "x0": "2015-10"
                  },
                  {
                    "opacity": 1,
                    "xref": "x",
                    "yref": "y",
                    "fillcolor": "rgb(44, 160, 44)",
                    "y1": 2.3,
                    "y0": 1.7,
                    "line": {
                      "width": 0
                    },
                    "x1": "2020",
                    "type": "rect",
                    "x0": "2016-06"
                  }
                ],
                "width": 900,
                "xaxis": {
                  "zeroline": false,
                  "rangeselector": {
                    "buttons": [
                      {
                        "count": 7,
                        "step": "day",
                        "stepmode": "backward",
                        "label": "1w"
                      },
                      {
                        "count": 1,
                        "step": "month",
                        "stepmode": "backward",
                        "label": "1m"
                      },
                      {
                        "count": 6,
                        "step": "month",
                        "stepmode": "backward",
                        "label": "6m"
                      },
                      {
                        "count": 1,
                        "step": "year",
                        "stepmode": "todate",
                        "label": "YTD"
                      },
                      {
                        "count": 1,
                        "step": "year",
                        "stepmode": "backward",
                        "label": "1y"
                      },
                      {
                        "step": "all"
                      }
                    ]
                  },
                  "type": "date",
                  "showgrid": true
                },
                "hovermode": "closest"
              },
              "config": {
                "plotlyServerURL": "https://plot.ly",
                "linkText": "Export to plot.ly",
                "showLink": false
              },
              "data": [
                {
                  "name": "",
                  "y": [
                    0,
                    0
                  ],
                  "marker": {
                    "color": "white"
                  },
                  "x": [
                    "2009-01",
                    "2015-10"
                  ],
                  "type": "scatter",
                  "uid": "46302721-9c39-4f3e-a1cf-9f06cdc9d7f4"
                },
                {
                  "name": "",
                  "y": [
                    1,
                    1
                  ],
                  "marker": {
                    "color": "white"
                  },
                  "x": [
                    "2015-10",
                    "2016-04"
                  ],
                  "type": "scatter",
                  "uid": "afeab083-c195-45ae-97bf-2882804349b5"
                },
                {
                  "name": "",
                  "y": [
                    2,
                    2
                  ],
                  "marker": {
                    "color": "white"
                  },
                  "x": [
                    "2016-06",
                    "2020"
                  ],
                  "type": "scatter",
                  "uid": "58704fbd-03a1-4f29-94f6-9a2b44f349ea"
                }
              ]
            }
          },
          "metadata": {
            "tags": []
          }
        }
      ]
    },
    {
      "cell_type": "code",
      "metadata": {
        "id": "5Lhh_P9yfdx2",
        "colab_type": "code",
        "outputId": "c887204d-ac39-4366-b78a-11c2fb19501d",
        "colab": {
          "base_uri": "https://localhost:8080/",
          "height": 279
        }
      },
      "source": [
        "# Skills\n",
        "skills = [(\"big data\", 20, 50), (\"python\", 50, 70), (\"matlab\", 100, 70),\n",
        "         (\"machine learning\", 20, 40), (\"stats\", 60, 80), (\"linux\", 50, 40),\n",
        "         (\"data science\", 70, 60), (\"math modelling\", 50, 90),\n",
        "         (\"project management\", 20, 20), (\"HEVs\", 100,80), ('GIT', 60,50)]\n",
        "\n",
        "from matplotlib import pyplot as plt\n",
        "\n",
        "def text_size(total):\n",
        "    return 8 + total / 200 * 20\n",
        "\n",
        "for skill, time, confidence in skills:\n",
        "    from matplotlib import pyplot as plt\n",
        "    plt.text(time, confidence, skill,\n",
        "            ha='center', va='center',\n",
        "            size=text_size(time + confidence))\n",
        "plt.title(\"Skills\", size=14)\n",
        "plt.xlabel(\"time spent\")\n",
        "plt.ylabel(\"confidence\")\n",
        "plt.axis([0, 100, 0, 100])\n",
        "plt.xticks([])\n",
        "plt.yticks([])\n",
        "plt.show()"
      ],
      "execution_count": 3,
      "outputs": [
        {
          "output_type": "display_data",
          "data": {
            "image/png": "[encoded data removed]",
            "text/plain": [
              "<Figure size 432x288 with 1 Axes>"
            ]
          },
          "metadata": {
            "tags": []
          }
        }
      ]
    },
    {
      "cell_type": "code",
      "metadata": {
        "id": "FEOYIHfjfdx7",
        "colab_type": "code",
        "colab": {}
      },
      "source": [
        ""
      ],
      "execution_count": 0,
      "outputs": []
    }
  ]
}