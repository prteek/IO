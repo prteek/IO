{
  "cells": [
    {
      "metadata": {
        "colab_type": "text",
        "id": "d5L7q1Edfdxu"
      },
      "cell_type": "markdown",
      "source": "# Prateek Patel\n#### Mathematical modelling and data science Engineer for Hybrid electric Vehicle development\nContact  : prateekpatel.in@gmail.com <br>"
    },
    {
      "metadata": {
        "colab": {
          "base_uri": "https://localhost:8080/",
          "height": 617
        },
        "colab_type": "code",
        "id": "0UNUqSFwfdxx",
        "outputId": "7ebfc25b-1339-4e26-fc7b-91b84b6e9f51",
        "scrolled": false,
        "trusted": true
      },
      "cell_type": "code",
      "source": "# Past Experience\nimport plotly\nimport plotly.figure_factory as ff\nplotly.offline.init_notebook_mode(connected=True)\n\ndf = [dict(Task=\"Maruti Suzuki\", Start='2009-01', Finish='2015-10'),\n      dict(Task=\"Affluent [JLR]\", Start='2015-10', Finish='2016-04'),\n      dict(Task=\"Altran [Ford]\", Start='2016-06', Finish='2020-01'),\n      dict(Task=\"Vantage Power\", Start='2020-01', Finish='2021')]\n\n\nfig = ff.create_gantt(df, title='Past Experience', bar_width=0.3, showgrid_x=True, showgrid_y=True)\nplotly.offline.iplot(fig, filename='Past Experience')",
      "execution_count": 3,
      "outputs": [
        {
          "output_type": "display_data",
          "data": {
            "text/html": "        <script type=\"text/javascript\">\n        window.PlotlyConfig = {MathJaxConfig: 'local'};\n        if (window.MathJax) {MathJax.Hub.Config({SVG: {font: \"STIX-Web\"}});}\n        if (typeof require !== 'undefined') {\n        require.undef(\"plotly\");\n        requirejs.config({\n            paths: {\n                'plotly': ['https://cdn.plot.ly/plotly-latest.min']\n            }\n        });\n        require(['plotly'], function(Plotly) {\n            window._Plotly = Plotly;\n        });\n        }\n        </script>\n        "
          },
          "metadata": {}
        },
        {
          "output_type": "display_data",
          "data": {
            "text/html": "<div>\n        \n        \n            <div id=\"7157746f-fc8b-4fe8-8695-6635baf8554f\" class=\"plotly-graph-div\" style=\"height:600px; width:100%;\"></div>\n            <script type=\"text/javascript\">\n                require([\"plotly\"], function(Plotly) {\n                    window.PLOTLYENV=window.PLOTLYENV || {};\n                    \n                if (document.getElementById(\"7157746f-fc8b-4fe8-8695-6635baf8554f\")) {\n                    Plotly.newPlot(\n                        '7157746f-fc8b-4fe8-8695-6635baf8554f',\n                        [{\"fill\": \"toself\", \"fillcolor\": \"rgb(214, 39, 40)\", \"hoverinfo\": \"name\", \"legendgroup\": \"rgb(214, 39, 40)\", \"mode\": \"none\", \"name\": \"Vantage Power\", \"type\": \"scatter\", \"x\": [\"2020-01\", \"2021\", \"2021\", \"2020-01\"], \"y\": [2.7, 2.7, 3.3, 3.3]}, {\"fill\": \"toself\", \"fillcolor\": \"rgb(255, 127, 14)\", \"hoverinfo\": \"name\", \"legendgroup\": \"rgb(255, 127, 14)\", \"mode\": \"none\", \"name\": \"Affluent [JLR]\", \"type\": \"scatter\", \"x\": [\"2015-10\", \"2016-04\", \"2016-04\", \"2015-10\"], \"y\": [0.7, 0.7, 1.3, 1.3]}, {\"fill\": \"toself\", \"fillcolor\": \"rgb(31, 119, 180)\", \"hoverinfo\": \"name\", \"legendgroup\": \"rgb(31, 119, 180)\", \"mode\": \"none\", \"name\": \"Maruti Suzuki\", \"type\": \"scatter\", \"x\": [\"2009-01\", \"2015-10\", \"2015-10\", \"2009-01\"], \"y\": [-0.3, -0.3, 0.3, 0.3]}, {\"fill\": \"toself\", \"fillcolor\": \"rgb(44, 160, 44)\", \"hoverinfo\": \"name\", \"legendgroup\": \"rgb(44, 160, 44)\", \"mode\": \"none\", \"name\": \"Altran [Ford]\", \"type\": \"scatter\", \"x\": [\"2016-06\", \"2020-01\", \"2020-01\", \"2016-06\"], \"y\": [1.7, 1.7, 2.3, 2.3]}, {\"legendgroup\": \"rgb(214, 39, 40)\", \"marker\": {\"color\": \"rgb(214, 39, 40)\", \"opacity\": 0, \"size\": 1}, \"mode\": \"markers\", \"name\": \"\", \"showlegend\": false, \"text\": [null, null], \"type\": \"scatter\", \"x\": [\"2020-01\", \"2021\"], \"y\": [3, 3]}, {\"legendgroup\": \"rgb(255, 127, 14)\", \"marker\": {\"color\": \"rgb(255, 127, 14)\", \"opacity\": 0, \"size\": 1}, \"mode\": \"markers\", \"name\": \"\", \"showlegend\": false, \"text\": [null, null], \"type\": \"scatter\", \"x\": [\"2015-10\", \"2016-04\"], \"y\": [1, 1]}, {\"legendgroup\": \"rgb(31, 119, 180)\", \"marker\": {\"color\": \"rgb(31, 119, 180)\", \"opacity\": 0, \"size\": 1}, \"mode\": \"markers\", \"name\": \"\", \"showlegend\": false, \"text\": [null, null], \"type\": \"scatter\", \"x\": [\"2009-01\", \"2015-10\"], \"y\": [0, 0]}, {\"legendgroup\": \"rgb(44, 160, 44)\", \"marker\": {\"color\": \"rgb(44, 160, 44)\", \"opacity\": 0, \"size\": 1}, \"mode\": \"markers\", \"name\": \"\", \"showlegend\": false, \"text\": [null, null], \"type\": \"scatter\", \"x\": [\"2016-06\", \"2020-01\"], \"y\": [2, 2]}],\n                        {\"height\": 600, \"hovermode\": \"closest\", \"showlegend\": false, \"template\": {\"data\": {\"bar\": [{\"error_x\": {\"color\": \"#2a3f5f\"}, \"error_y\": {\"color\": \"#2a3f5f\"}, \"marker\": {\"line\": {\"color\": \"#E5ECF6\", \"width\": 0.5}}, \"type\": \"bar\"}], \"barpolar\": [{\"marker\": {\"line\": {\"color\": \"#E5ECF6\", \"width\": 0.5}}, \"type\": \"barpolar\"}], \"carpet\": [{\"aaxis\": {\"endlinecolor\": \"#2a3f5f\", \"gridcolor\": \"white\", \"linecolor\": \"white\", \"minorgridcolor\": \"white\", \"startlinecolor\": \"#2a3f5f\"}, \"baxis\": {\"endlinecolor\": \"#2a3f5f\", \"gridcolor\": \"white\", \"linecolor\": \"white\", \"minorgridcolor\": \"white\", \"startlinecolor\": \"#2a3f5f\"}, \"type\": \"carpet\"}], \"choropleth\": [{\"colorbar\": {\"outlinewidth\": 0, \"ticks\": \"\"}, \"type\": \"choropleth\"}], \"contour\": [{\"colorbar\": {\"outlinewidth\": 0, \"ticks\": \"\"}, \"colorscale\": [[0.0, \"#0d0887\"], [0.1111111111111111, \"#46039f\"], [0.2222222222222222, \"#7201a8\"], [0.3333333333333333, \"#9c179e\"], [0.4444444444444444, \"#bd3786\"], [0.5555555555555556, \"#d8576b\"], [0.6666666666666666, \"#ed7953\"], [0.7777777777777778, \"#fb9f3a\"], [0.8888888888888888, \"#fdca26\"], [1.0, \"#f0f921\"]], \"type\": \"contour\"}], \"contourcarpet\": [{\"colorbar\": {\"outlinewidth\": 0, \"ticks\": \"\"}, \"type\": \"contourcarpet\"}], \"heatmap\": [{\"colorbar\": {\"outlinewidth\": 0, \"ticks\": \"\"}, \"colorscale\": [[0.0, \"#0d0887\"], [0.1111111111111111, \"#46039f\"], [0.2222222222222222, \"#7201a8\"], [0.3333333333333333, \"#9c179e\"], [0.4444444444444444, \"#bd3786\"], [0.5555555555555556, \"#d8576b\"], [0.6666666666666666, \"#ed7953\"], [0.7777777777777778, \"#fb9f3a\"], [0.8888888888888888, \"#fdca26\"], [1.0, \"#f0f921\"]], \"type\": \"heatmap\"}], \"heatmapgl\": [{\"colorbar\": {\"outlinewidth\": 0, \"ticks\": \"\"}, \"colorscale\": [[0.0, \"#0d0887\"], [0.1111111111111111, \"#46039f\"], [0.2222222222222222, \"#7201a8\"], [0.3333333333333333, \"#9c179e\"], [0.4444444444444444, \"#bd3786\"], [0.5555555555555556, \"#d8576b\"], [0.6666666666666666, \"#ed7953\"], [0.7777777777777778, \"#fb9f3a\"], [0.8888888888888888, \"#fdca26\"], [1.0, \"#f0f921\"]], \"type\": \"heatmapgl\"}], \"histogram\": [{\"marker\": {\"colorbar\": {\"outlinewidth\": 0, \"ticks\": \"\"}}, \"type\": \"histogram\"}], \"histogram2d\": [{\"colorbar\": {\"outlinewidth\": 0, \"ticks\": \"\"}, \"colorscale\": [[0.0, \"#0d0887\"], [0.1111111111111111, \"#46039f\"], [0.2222222222222222, \"#7201a8\"], [0.3333333333333333, \"#9c179e\"], [0.4444444444444444, \"#bd3786\"], [0.5555555555555556, \"#d8576b\"], [0.6666666666666666, \"#ed7953\"], [0.7777777777777778, \"#fb9f3a\"], [0.8888888888888888, \"#fdca26\"], [1.0, \"#f0f921\"]], \"type\": \"histogram2d\"}], \"histogram2dcontour\": [{\"colorbar\": {\"outlinewidth\": 0, \"ticks\": \"\"}, \"colorscale\": [[0.0, \"#0d0887\"], [0.1111111111111111, \"#46039f\"], [0.2222222222222222, \"#7201a8\"], [0.3333333333333333, \"#9c179e\"], [0.4444444444444444, \"#bd3786\"], [0.5555555555555556, \"#d8576b\"], [0.6666666666666666, \"#ed7953\"], [0.7777777777777778, \"#fb9f3a\"], [0.8888888888888888, \"#fdca26\"], [1.0, \"#f0f921\"]], \"type\": \"histogram2dcontour\"}], \"mesh3d\": [{\"colorbar\": {\"outlinewidth\": 0, \"ticks\": \"\"}, \"type\": \"mesh3d\"}], \"parcoords\": [{\"line\": {\"colorbar\": {\"outlinewidth\": 0, \"ticks\": \"\"}}, \"type\": \"parcoords\"}], \"scatter\": [{\"marker\": {\"colorbar\": {\"outlinewidth\": 0, \"ticks\": \"\"}}, \"type\": \"scatter\"}], \"scatter3d\": [{\"line\": {\"colorbar\": {\"outlinewidth\": 0, \"ticks\": \"\"}}, \"marker\": {\"colorbar\": {\"outlinewidth\": 0, \"ticks\": \"\"}}, \"type\": \"scatter3d\"}], \"scattercarpet\": [{\"marker\": {\"colorbar\": {\"outlinewidth\": 0, \"ticks\": \"\"}}, \"type\": \"scattercarpet\"}], \"scattergeo\": [{\"marker\": {\"colorbar\": {\"outlinewidth\": 0, \"ticks\": \"\"}}, \"type\": \"scattergeo\"}], \"scattergl\": [{\"marker\": {\"colorbar\": {\"outlinewidth\": 0, \"ticks\": \"\"}}, \"type\": \"scattergl\"}], \"scattermapbox\": [{\"marker\": {\"colorbar\": {\"outlinewidth\": 0, \"ticks\": \"\"}}, \"type\": \"scattermapbox\"}], \"scatterpolar\": [{\"marker\": {\"colorbar\": {\"outlinewidth\": 0, \"ticks\": \"\"}}, \"type\": \"scatterpolar\"}], \"scatterpolargl\": [{\"marker\": {\"colorbar\": {\"outlinewidth\": 0, \"ticks\": \"\"}}, \"type\": \"scatterpolargl\"}], \"scatterternary\": [{\"marker\": {\"colorbar\": {\"outlinewidth\": 0, \"ticks\": \"\"}}, \"type\": \"scatterternary\"}], \"surface\": [{\"colorbar\": {\"outlinewidth\": 0, \"ticks\": \"\"}, \"colorscale\": [[0.0, \"#0d0887\"], [0.1111111111111111, \"#46039f\"], [0.2222222222222222, \"#7201a8\"], [0.3333333333333333, \"#9c179e\"], [0.4444444444444444, \"#bd3786\"], [0.5555555555555556, \"#d8576b\"], [0.6666666666666666, \"#ed7953\"], [0.7777777777777778, \"#fb9f3a\"], [0.8888888888888888, \"#fdca26\"], [1.0, \"#f0f921\"]], \"type\": \"surface\"}], \"table\": [{\"cells\": {\"fill\": {\"color\": \"#EBF0F8\"}, \"line\": {\"color\": \"white\"}}, \"header\": {\"fill\": {\"color\": \"#C8D4E3\"}, \"line\": {\"color\": \"white\"}}, \"type\": \"table\"}]}, \"layout\": {\"annotationdefaults\": {\"arrowcolor\": \"#2a3f5f\", \"arrowhead\": 0, \"arrowwidth\": 1}, \"colorscale\": {\"diverging\": [[0, \"#8e0152\"], [0.1, \"#c51b7d\"], [0.2, \"#de77ae\"], [0.3, \"#f1b6da\"], [0.4, \"#fde0ef\"], [0.5, \"#f7f7f7\"], [0.6, \"#e6f5d0\"], [0.7, \"#b8e186\"], [0.8, \"#7fbc41\"], [0.9, \"#4d9221\"], [1, \"#276419\"]], \"sequential\": [[0.0, \"#0d0887\"], [0.1111111111111111, \"#46039f\"], [0.2222222222222222, \"#7201a8\"], [0.3333333333333333, \"#9c179e\"], [0.4444444444444444, \"#bd3786\"], [0.5555555555555556, \"#d8576b\"], [0.6666666666666666, \"#ed7953\"], [0.7777777777777778, \"#fb9f3a\"], [0.8888888888888888, \"#fdca26\"], [1.0, \"#f0f921\"]], \"sequentialminus\": [[0.0, \"#0d0887\"], [0.1111111111111111, \"#46039f\"], [0.2222222222222222, \"#7201a8\"], [0.3333333333333333, \"#9c179e\"], [0.4444444444444444, \"#bd3786\"], [0.5555555555555556, \"#d8576b\"], [0.6666666666666666, \"#ed7953\"], [0.7777777777777778, \"#fb9f3a\"], [0.8888888888888888, \"#fdca26\"], [1.0, \"#f0f921\"]]}, \"colorway\": [\"#636efa\", \"#EF553B\", \"#00cc96\", \"#ab63fa\", \"#FFA15A\", \"#19d3f3\", \"#FF6692\", \"#B6E880\", \"#FF97FF\", \"#FECB52\"], \"font\": {\"color\": \"#2a3f5f\"}, \"geo\": {\"bgcolor\": \"white\", \"lakecolor\": \"white\", \"landcolor\": \"#E5ECF6\", \"showlakes\": true, \"showland\": true, \"subunitcolor\": \"white\"}, \"hoverlabel\": {\"align\": \"left\"}, \"hovermode\": \"closest\", \"mapbox\": {\"style\": \"light\"}, \"paper_bgcolor\": \"white\", \"plot_bgcolor\": \"#E5ECF6\", \"polar\": {\"angularaxis\": {\"gridcolor\": \"white\", \"linecolor\": \"white\", \"ticks\": \"\"}, \"bgcolor\": \"#E5ECF6\", \"radialaxis\": {\"gridcolor\": \"white\", \"linecolor\": \"white\", \"ticks\": \"\"}}, \"scene\": {\"xaxis\": {\"backgroundcolor\": \"#E5ECF6\", \"gridcolor\": \"white\", \"gridwidth\": 2, \"linecolor\": \"white\", \"showbackground\": true, \"ticks\": \"\", \"zerolinecolor\": \"white\"}, \"yaxis\": {\"backgroundcolor\": \"#E5ECF6\", \"gridcolor\": \"white\", \"gridwidth\": 2, \"linecolor\": \"white\", \"showbackground\": true, \"ticks\": \"\", \"zerolinecolor\": \"white\"}, \"zaxis\": {\"backgroundcolor\": \"#E5ECF6\", \"gridcolor\": \"white\", \"gridwidth\": 2, \"linecolor\": \"white\", \"showbackground\": true, \"ticks\": \"\", \"zerolinecolor\": \"white\"}}, \"shapedefaults\": {\"line\": {\"color\": \"#2a3f5f\"}}, \"ternary\": {\"aaxis\": {\"gridcolor\": \"white\", \"linecolor\": \"white\", \"ticks\": \"\"}, \"baxis\": {\"gridcolor\": \"white\", \"linecolor\": \"white\", \"ticks\": \"\"}, \"bgcolor\": \"#E5ECF6\", \"caxis\": {\"gridcolor\": \"white\", \"linecolor\": \"white\", \"ticks\": \"\"}}, \"title\": {\"x\": 0.05}, \"xaxis\": {\"automargin\": true, \"gridcolor\": \"white\", \"linecolor\": \"white\", \"ticks\": \"\", \"zerolinecolor\": \"white\", \"zerolinewidth\": 2}, \"yaxis\": {\"automargin\": true, \"gridcolor\": \"white\", \"linecolor\": \"white\", \"ticks\": \"\", \"zerolinecolor\": \"white\", \"zerolinewidth\": 2}}}, \"title\": {\"text\": \"Past Experience\"}, \"xaxis\": {\"rangeselector\": {\"buttons\": [{\"count\": 7, \"label\": \"1w\", \"step\": \"day\", \"stepmode\": \"backward\"}, {\"count\": 1, \"label\": \"1m\", \"step\": \"month\", \"stepmode\": \"backward\"}, {\"count\": 6, \"label\": \"6m\", \"step\": \"month\", \"stepmode\": \"backward\"}, {\"count\": 1, \"label\": \"YTD\", \"step\": \"year\", \"stepmode\": \"todate\"}, {\"count\": 1, \"label\": \"1y\", \"step\": \"year\", \"stepmode\": \"backward\"}, {\"step\": \"all\"}]}, \"showgrid\": true, \"type\": \"date\", \"zeroline\": false}, \"yaxis\": {\"autorange\": false, \"range\": [-1, 5], \"showgrid\": true, \"ticktext\": [\"Maruti Suzuki\", \"Affluent [JLR]\", \"Altran [Ford]\", \"Vantage Power\"], \"tickvals\": [0, 1, 2, 3], \"zeroline\": false}},\n                        {\"responsive\": true}\n                    ).then(function(){\n                            \nvar gd = document.getElementById('7157746f-fc8b-4fe8-8695-6635baf8554f');\nvar x = new MutationObserver(function (mutations, observer) {{\n        var display = window.getComputedStyle(gd).display;\n        if (!display || display === 'none') {{\n            console.log([gd, 'removed!']);\n            Plotly.purge(gd);\n            observer.disconnect();\n        }}\n}});\n\n// Listen for the removal of the full notebook cells\nvar notebookContainer = gd.closest('#notebook-container');\nif (notebookContainer) {{\n    x.observe(notebookContainer, {childList: true});\n}}\n\n// Listen for the clearing of the current output cell\nvar outputEl = gd.closest('.output');\nif (outputEl) {{\n    x.observe(outputEl, {childList: true});\n}}\n\n                        })\n                };\n                });\n            </script>\n        </div>",
            "application/vnd.plotly.v1+json": {
              "layout": {
                "showlegend": false,
                "xaxis": {
                  "zeroline": false,
                  "rangeselector": {
                    "buttons": [
                      {
                        "count": 7,
                        "step": "day",
                        "stepmode": "backward",
                        "label": "1w"
                      },
                      {
                        "count": 1,
                        "step": "month",
                        "stepmode": "backward",
                        "label": "1m"
                      },
                      {
                        "count": 6,
                        "step": "month",
                        "stepmode": "backward",
                        "label": "6m"
                      },
                      {
                        "count": 1,
                        "step": "year",
                        "stepmode": "todate",
                        "label": "YTD"
                      },
                      {
                        "count": 1,
                        "step": "year",
                        "stepmode": "backward",
                        "label": "1y"
                      },
                      {
                        "step": "all"
                      }
                    ]
                  },
                  "type": "date",
                  "showgrid": true
                },
                "title": {
                  "text": "Past Experience"
                },
                "yaxis": {
                  "showgrid": true,
                  "range": [
                    -1,
                    5
                  ],
                  "zeroline": false,
                  "ticktext": [
                    "Maruti Suzuki",
                    "Affluent [JLR]",
                    "Altran [Ford]",
                    "Vantage Power"
                  ],
                  "autorange": false,
                  "tickvals": [
                    0,
                    1,
                    2,
                    3
                  ]
                },
                "height": 600,
                "template": {
                  "data": {
                    "mesh3d": [
                      {
                        "colorbar": {
                          "outlinewidth": 0,
                          "ticks": ""
                        },
                        "type": "mesh3d"
                      }
                    ],
                    "scattercarpet": [
                      {
                        "marker": {
                          "colorbar": {
                            "outlinewidth": 0,
                            "ticks": ""
                          }
                        },
                        "type": "scattercarpet"
                      }
                    ],
                    "scatterternary": [
                      {
                        "marker": {
                          "colorbar": {
                            "outlinewidth": 0,
                            "ticks": ""
                          }
                        },
                        "type": "scatterternary"
                      }
                    ],
                    "surface": [
                      {
                        "colorbar": {
                          "outlinewidth": 0,
                          "ticks": ""
                        },
                        "type": "surface",
                        "colorscale": [
                          [
                            0,
                            "#0d0887"
                          ],
                          [
                            0.1111111111111111,
                            "#46039f"
                          ],
                          [
                            0.22222222222222221,
                            "#7201a8"
                          ],
                          [
                            0.33333333333333331,
                            "#9c179e"
                          ],
                          [
                            0.44444444444444442,
                            "#bd3786"
                          ],
                          [
                            0.55555555555555558,
                            "#d8576b"
                          ],
                          [
                            0.66666666666666663,
                            "#ed7953"
                          ],
                          [
                            0.77777777777777779,
                            "#fb9f3a"
                          ],
                          [
                            0.88888888888888884,
                            "#fdca26"
                          ],
                          [
                            1,
                            "#f0f921"
                          ]
                        ]
                      }
                    ],
                    "scatterpolargl": [
                      {
                        "marker": {
                          "colorbar": {
                            "outlinewidth": 0,
                            "ticks": ""
                          }
                        },
                        "type": "scatterpolargl"
                      }
                    ],
                    "table": [
                      {
                        "header": {
                          "line": {
                            "color": "white"
                          },
                          "fill": {
                            "color": "#C8D4E3"
                          }
                        },
                        "cells": {
                          "line": {
                            "color": "white"
                          },
                          "fill": {
                            "color": "#EBF0F8"
                          }
                        },
                        "type": "table"
                      }
                    ],
                    "contour": [
                      {
                        "colorbar": {
                          "outlinewidth": 0,
                          "ticks": ""
                        },
                        "type": "contour",
                        "colorscale": [
                          [
                            0,
                            "#0d0887"
                          ],
                          [
                            0.1111111111111111,
                            "#46039f"
                          ],
                          [
                            0.22222222222222221,
                            "#7201a8"
                          ],
                          [
                            0.33333333333333331,
                            "#9c179e"
                          ],
                          [
                            0.44444444444444442,
                            "#bd3786"
                          ],
                          [
                            0.55555555555555558,
                            "#d8576b"
                          ],
                          [
                            0.66666666666666663,
                            "#ed7953"
                          ],
                          [
                            0.77777777777777779,
                            "#fb9f3a"
                          ],
                          [
                            0.88888888888888884,
                            "#fdca26"
                          ],
                          [
                            1,
                            "#f0f921"
                          ]
                        ]
                      }
                    ],
                    "carpet": [
                      {
                        "type": "carpet",
                        "baxis": {
                          "endlinecolor": "#2a3f5f",
                          "minorgridcolor": "white",
                          "gridcolor": "white",
                          "startlinecolor": "#2a3f5f",
                          "linecolor": "white"
                        },
                        "aaxis": {
                          "endlinecolor": "#2a3f5f",
                          "minorgridcolor": "white",
                          "gridcolor": "white",
                          "startlinecolor": "#2a3f5f",
                          "linecolor": "white"
                        }
                      }
                    ],
                    "contourcarpet": [
                      {
                        "colorbar": {
                          "outlinewidth": 0,
                          "ticks": ""
                        },
                        "type": "contourcarpet"
                      }
                    ],
                    "heatmap": [
                      {
                        "colorbar": {
                          "outlinewidth": 0,
                          "ticks": ""
                        },
                        "type": "heatmap",
                        "colorscale": [
                          [
                            0,
                            "#0d0887"
                          ],
                          [
                            0.1111111111111111,
                            "#46039f"
                          ],
                          [
                            0.22222222222222221,
                            "#7201a8"
                          ],
                          [
                            0.33333333333333331,
                            "#9c179e"
                          ],
                          [
                            0.44444444444444442,
                            "#bd3786"
                          ],
                          [
                            0.55555555555555558,
                            "#d8576b"
                          ],
                          [
                            0.66666666666666663,
                            "#ed7953"
                          ],
                          [
                            0.77777777777777779,
                            "#fb9f3a"
                          ],
                          [
                            0.88888888888888884,
                            "#fdca26"
                          ],
                          [
                            1,
                            "#f0f921"
                          ]
                        ]
                      }
                    ],
                    "scattermapbox": [
                      {
                        "marker": {
                          "colorbar": {
                            "outlinewidth": 0,
                            "ticks": ""
                          }
                        },
                        "type": "scattermapbox"
                      }
                    ],
                    "scatter3d": [
                      {
                        "marker": {
                          "colorbar": {
                            "outlinewidth": 0,
                            "ticks": ""
                          }
                        },
                        "line": {
                          "colorbar": {
                            "outlinewidth": 0,
                            "ticks": ""
                          }
                        },
                        "type": "scatter3d"
                      }
                    ],
                    "scattergl": [
                      {
                        "marker": {
                          "colorbar": {
                            "outlinewidth": 0,
                            "ticks": ""
                          }
                        },
                        "type": "scattergl"
                      }
                    ],
                    "histogram2d": [
                      {
                        "colorbar": {
                          "outlinewidth": 0,
                          "ticks": ""
                        },
                        "type": "histogram2d",
                        "colorscale": [
                          [
                            0,
                            "#0d0887"
                          ],
                          [
                            0.1111111111111111,
                            "#46039f"
                          ],
                          [
                            0.22222222222222221,
                            "#7201a8"
                          ],
                          [
                            0.33333333333333331,
                            "#9c179e"
                          ],
                          [
                            0.44444444444444442,
                            "#bd3786"
                          ],
                          [
                            0.55555555555555558,
                            "#d8576b"
                          ],
                          [
                            0.66666666666666663,
                            "#ed7953"
                          ],
                          [
                            0.77777777777777779,
                            "#fb9f3a"
                          ],
                          [
                            0.88888888888888884,
                            "#fdca26"
                          ],
                          [
                            1,
                            "#f0f921"
                          ]
                        ]
                      }
                    ],
                    "heatmapgl": [
                      {
                        "colorbar": {
                          "outlinewidth": 0,
                          "ticks": ""
                        },
                        "type": "heatmapgl",
                        "colorscale": [
                          [
                            0,
                            "#0d0887"
                          ],
                          [
                            0.1111111111111111,
                            "#46039f"
                          ],
                          [
                            0.22222222222222221,
                            "#7201a8"
                          ],
                          [
                            0.33333333333333331,
                            "#9c179e"
                          ],
                          [
                            0.44444444444444442,
                            "#bd3786"
                          ],
                          [
                            0.55555555555555558,
                            "#d8576b"
                          ],
                          [
                            0.66666666666666663,
                            "#ed7953"
                          ],
                          [
                            0.77777777777777779,
                            "#fb9f3a"
                          ],
                          [
                            0.88888888888888884,
                            "#fdca26"
                          ],
                          [
                            1,
                            "#f0f921"
                          ]
                        ]
                      }
                    ],
                    "scatterpolar": [
                      {
                        "marker": {
                          "colorbar": {
                            "outlinewidth": 0,
                            "ticks": ""
                          }
                        },
                        "type": "scatterpolar"
                      }
                    ],
                    "histogram": [
                      {
                        "marker": {
                          "colorbar": {
                            "outlinewidth": 0,
                            "ticks": ""
                          }
                        },
                        "type": "histogram"
                      }
                    ],
                    "scattergeo": [
                      {
                        "marker": {
                          "colorbar": {
                            "outlinewidth": 0,
                            "ticks": ""
                          }
                        },
                        "type": "scattergeo"
                      }
                    ],
                    "bar": [
                      {
                        "marker": {
                          "line": {
                            "color": "#E5ECF6",
                            "width": 0.5
                          }
                        },
                        "error_x": {
                          "color": "#2a3f5f"
                        },
                        "type": "bar",
                        "error_y": {
                          "color": "#2a3f5f"
                        }
                      }
                    ],
                    "choropleth": [
                      {
                        "colorbar": {
                          "outlinewidth": 0,
                          "ticks": ""
                        },
                        "type": "choropleth"
                      }
                    ],
                    "parcoords": [
                      {
                        "line": {
                          "colorbar": {
                            "outlinewidth": 0,
                            "ticks": ""
                          }
                        },
                        "type": "parcoords"
                      }
                    ],
                    "barpolar": [
                      {
                        "marker": {
                          "line": {
                            "color": "#E5ECF6",
                            "width": 0.5
                          }
                        },
                        "type": "barpolar"
                      }
                    ],
                    "histogram2dcontour": [
                      {
                        "colorbar": {
                          "outlinewidth": 0,
                          "ticks": ""
                        },
                        "type": "histogram2dcontour",
                        "colorscale": [
                          [
                            0,
                            "#0d0887"
                          ],
                          [
                            0.1111111111111111,
                            "#46039f"
                          ],
                          [
                            0.22222222222222221,
                            "#7201a8"
                          ],
                          [
                            0.33333333333333331,
                            "#9c179e"
                          ],
                          [
                            0.44444444444444442,
                            "#bd3786"
                          ],
                          [
                            0.55555555555555558,
                            "#d8576b"
                          ],
                          [
                            0.66666666666666663,
                            "#ed7953"
                          ],
                          [
                            0.77777777777777779,
                            "#fb9f3a"
                          ],
                          [
                            0.88888888888888884,
                            "#fdca26"
                          ],
                          [
                            1,
                            "#f0f921"
                          ]
                        ]
                      }
                    ],
                    "scatter": [
                      {
                        "marker": {
                          "colorbar": {
                            "outlinewidth": 0,
                            "ticks": ""
                          }
                        },
                        "type": "scatter"
                      }
                    ]
                  },
                  "layout": {
                    "shapedefaults": {
                      "line": {
                        "color": "#2a3f5f"
                      }
                    },
                    "polar": {
                      "radialaxis": {
                        "ticks": "",
                        "gridcolor": "white",
                        "linecolor": "white"
                      },
                      "bgcolor": "#E5ECF6",
                      "angularaxis": {
                        "ticks": "",
                        "gridcolor": "white",
                        "linecolor": "white"
                      }
                    },
                    "colorway": [
                      "#636efa",
                      "#EF553B",
                      "#00cc96",
                      "#ab63fa",
                      "#FFA15A",
                      "#19d3f3",
                      "#FF6692",
                      "#B6E880",
                      "#FF97FF",
                      "#FECB52"
                    ],
                    "xaxis": {
                      "automargin": true,
                      "zerolinewidth": 2,
                      "ticks": "",
                      "zerolinecolor": "white",
                      "gridcolor": "white",
                      "linecolor": "white"
                    },
                    "colorscale": {
                      "diverging": [
                        [
                          0,
                          "#8e0152"
                        ],
                        [
                          0.1,
                          "#c51b7d"
                        ],
                        [
                          0.2,
                          "#de77ae"
                        ],
                        [
                          0.3,
                          "#f1b6da"
                        ],
                        [
                          0.4,
                          "#fde0ef"
                        ],
                        [
                          0.5,
                          "#f7f7f7"
                        ],
                        [
                          0.6,
                          "#e6f5d0"
                        ],
                        [
                          0.7,
                          "#b8e186"
                        ],
                        [
                          0.8,
                          "#7fbc41"
                        ],
                        [
                          0.9,
                          "#4d9221"
                        ],
                        [
                          1,
                          "#276419"
                        ]
                      ],
                      "sequential": [
                        [
                          0,
                          "#0d0887"
                        ],
                        [
                          0.1111111111111111,
                          "#46039f"
                        ],
                        [
                          0.22222222222222221,
                          "#7201a8"
                        ],
                        [
                          0.33333333333333331,
                          "#9c179e"
                        ],
                        [
                          0.44444444444444442,
                          "#bd3786"
                        ],
                        [
                          0.55555555555555558,
                          "#d8576b"
                        ],
                        [
                          0.66666666666666663,
                          "#ed7953"
                        ],
                        [
                          0.77777777777777779,
                          "#fb9f3a"
                        ],
                        [
                          0.88888888888888884,
                          "#fdca26"
                        ],
                        [
                          1,
                          "#f0f921"
                        ]
                      ],
                      "sequentialminus": [
                        [
                          0,
                          "#0d0887"
                        ],
                        [
                          0.1111111111111111,
                          "#46039f"
                        ],
                        [
                          0.22222222222222221,
                          "#7201a8"
                        ],
                        [
                          0.33333333333333331,
                          "#9c179e"
                        ],
                        [
                          0.44444444444444442,
                          "#bd3786"
                        ],
                        [
                          0.55555555555555558,
                          "#d8576b"
                        ],
                        [
                          0.66666666666666663,
                          "#ed7953"
                        ],
                        [
                          0.77777777777777779,
                          "#fb9f3a"
                        ],
                        [
                          0.88888888888888884,
                          "#fdca26"
                        ],
                        [
                          1,
                          "#f0f921"
                        ]
                      ]
                    },
                    "paper_bgcolor": "white",
                    "plot_bgcolor": "#E5ECF6",
                    "title": {
                      "x": 0.05
                    },
                    "scene": {
                      "zaxis": {
                        "linecolor": "white",
                        "ticks": "",
                        "showbackground": true,
                        "gridwidth": 2,
                        "zerolinecolor": "white",
                        "gridcolor": "white",
                        "backgroundcolor": "#E5ECF6"
                      },
                      "xaxis": {
                        "linecolor": "white",
                        "ticks": "",
                        "showbackground": true,
                        "gridwidth": 2,
                        "zerolinecolor": "white",
                        "gridcolor": "white",
                        "backgroundcolor": "#E5ECF6"
                      },
                      "yaxis": {
                        "linecolor": "white",
                        "ticks": "",
                        "showbackground": true,
                        "gridwidth": 2,
                        "zerolinecolor": "white",
                        "gridcolor": "white",
                        "backgroundcolor": "#E5ECF6"
                      }
                    },
                    "yaxis": {
                      "automargin": true,
                      "zerolinewidth": 2,
                      "ticks": "",
                      "zerolinecolor": "white",
                      "gridcolor": "white",
                      "linecolor": "white"
                    },
                    "hoverlabel": {
                      "align": "left"
                    },
                    "ternary": {
                      "bgcolor": "#E5ECF6",
                      "baxis": {
                        "ticks": "",
                        "gridcolor": "white",
                        "linecolor": "white"
                      },
                      "caxis": {
                        "ticks": "",
                        "gridcolor": "white",
                        "linecolor": "white"
                      },
                      "aaxis": {
                        "ticks": "",
                        "gridcolor": "white",
                        "linecolor": "white"
                      }
                    },
                    "mapbox": {
                      "style": "light"
                    },
                    "hovermode": "closest",
                    "font": {
                      "color": "#2a3f5f"
                    },
                    "geo": {
                      "showland": true,
                      "landcolor": "#E5ECF6",
                      "showlakes": true,
                      "bgcolor": "white",
                      "subunitcolor": "white",
                      "lakecolor": "white"
                    },
                    "annotationdefaults": {
                      "arrowwidth": 1,
                      "arrowhead": 0,
                      "arrowcolor": "#2a3f5f"
                    }
                  }
                },
                "hovermode": "closest"
              },
              "config": {
                "plotlyServerURL": "https://plot.ly",
                "linkText": "Export to plot.ly",
                "showLink": false
              },
              "data": [
                {
                  "legendgroup": "rgb(214, 39, 40)",
                  "name": "Vantage Power",
                  "mode": "none",
                  "hoverinfo": "name",
                  "y": [
                    2.7,
                    2.7,
                    3.3,
                    3.3
                  ],
                  "x": [
                    "2020-01",
                    "2021",
                    "2021",
                    "2020-01"
                  ],
                  "fill": "toself",
                  "type": "scatter",
                  "fillcolor": "rgb(214, 39, 40)"
                },
                {
                  "legendgroup": "rgb(255, 127, 14)",
                  "name": "Affluent [JLR]",
                  "mode": "none",
                  "hoverinfo": "name",
                  "y": [
                    0.7,
                    0.7,
                    1.3,
                    1.3
                  ],
                  "x": [
                    "2015-10",
                    "2016-04",
                    "2016-04",
                    "2015-10"
                  ],
                  "fill": "toself",
                  "type": "scatter",
                  "fillcolor": "rgb(255, 127, 14)"
                },
                {
                  "legendgroup": "rgb(31, 119, 180)",
                  "name": "Maruti Suzuki",
                  "mode": "none",
                  "hoverinfo": "name",
                  "y": [
                    -0.3,
                    -0.3,
                    0.3,
                    0.3
                  ],
                  "x": [
                    "2009-01",
                    "2015-10",
                    "2015-10",
                    "2009-01"
                  ],
                  "fill": "toself",
                  "type": "scatter",
                  "fillcolor": "rgb(31, 119, 180)"
                },
                {
                  "legendgroup": "rgb(44, 160, 44)",
                  "name": "Altran [Ford]",
                  "mode": "none",
                  "hoverinfo": "name",
                  "y": [
                    1.7,
                    1.7,
                    2.3,
                    2.3
                  ],
                  "x": [
                    "2016-06",
                    "2020-01",
                    "2020-01",
                    "2016-06"
                  ],
                  "fill": "toself",
                  "type": "scatter",
                  "fillcolor": "rgb(44, 160, 44)"
                },
                {
                  "showlegend": false,
                  "legendgroup": "rgb(214, 39, 40)",
                  "name": "",
                  "text": [
                    null,
                    null
                  ],
                  "marker": {
                    "opacity": 0,
                    "color": "rgb(214, 39, 40)",
                    "size": 1
                  },
                  "mode": "markers",
                  "y": [
                    3,
                    3
                  ],
                  "x": [
                    "2020-01",
                    "2021"
                  ],
                  "type": "scatter"
                },
                {
                  "showlegend": false,
                  "legendgroup": "rgb(255, 127, 14)",
                  "name": "",
                  "text": [
                    null,
                    null
                  ],
                  "marker": {
                    "opacity": 0,
                    "color": "rgb(255, 127, 14)",
                    "size": 1
                  },
                  "mode": "markers",
                  "y": [
                    1,
                    1
                  ],
                  "x": [
                    "2015-10",
                    "2016-04"
                  ],
                  "type": "scatter"
                },
                {
                  "showlegend": false,
                  "legendgroup": "rgb(31, 119, 180)",
                  "name": "",
                  "text": [
                    null,
                    null
                  ],
                  "marker": {
                    "opacity": 0,
                    "color": "rgb(31, 119, 180)",
                    "size": 1
                  },
                  "mode": "markers",
                  "y": [
                    0,
                    0
                  ],
                  "x": [
                    "2009-01",
                    "2015-10"
                  ],
                  "type": "scatter"
                },
                {
                  "showlegend": false,
                  "legendgroup": "rgb(44, 160, 44)",
                  "name": "",
                  "text": [
                    null,
                    null
                  ],
                  "marker": {
                    "opacity": 0,
                    "color": "rgb(44, 160, 44)",
                    "size": 1
                  },
                  "mode": "markers",
                  "y": [
                    2,
                    2
                  ],
                  "x": [
                    "2016-06",
                    "2020-01"
                  ],
                  "type": "scatter"
                }
              ]
            }
          },
          "metadata": {}
        }
      ]
    },
    {
      "metadata": {
        "colab": {
          "base_uri": "https://localhost:8080/",
          "height": 279
        },
        "colab_type": "code",
        "id": "5Lhh_P9yfdx2",
        "outputId": "c887204d-ac39-4366-b78a-11c2fb19501d",
        "trusted": true
      },
      "cell_type": "code",
      "source": "# Skills\nskills = [(\"big data\", 40, 80), (\"python\", 100, 90), (\"matlab\", 55, 70),\n         (\"machine-learning\", 30, 60), (\"stats\", 70, 80), (\"linux\", 50, 40),\n         (\"data-science\", 90, 70), (\"math-modelling\", 50, 90),\n         (\"project-management\", 20, 30), (\"HEVs\", 80,60), ('GIT', 60,50)]\n\nfrom matplotlib import pyplot as plt\n\ndef text_size(total):\n    return 8 + total / 200 * 20\n\nfor skill, time, confidence in skills:\n    from matplotlib import pyplot as plt\n    plt.text(time, confidence, skill,\n            ha='center', va='center',\n            size=text_size(time + confidence))\nplt.title(\"Skills\", size=14)\nplt.xlabel(\"time spent\")\nplt.ylabel(\"confidence\")\nplt.axis([0, 100, 0, 100])\nplt.xticks([])\nplt.yticks([])\nplt.show()",
      "execution_count": 26,
      "outputs": [
        {
          "output_type": "display_data",
          "data": {
            "image/png": "[encoded data removed]",
            "text/plain": "<matplotlib.figure.Figure at 0x7f2295199390>"
          },
          "metadata": {}
        }
      ]
    }
  ],
  "metadata": {
    "colab": {
      "collapsed_sections": [],
      "include_colab_link": true,
      "name": "Profile.ipynb",
      "provenance": [],
      "version": "0.3.2"
    },
    "kernelspec": {
      "name": "python3",
      "display_name": "Python 3",
      "language": "python"
    },
    "language_info": {
      "mimetype": "text/x-python",
      "nbconvert_exporter": "python",
      "name": "python",
      "file_extension": ".py",
      "version": "3.5.4",
      "pygments_lexer": "ipython3",
      "codemirror_mode": {
        "version": 3,
        "name": "ipython"
      }
    },
    "toc": {
      "base_numbering": 1,
      "nav_menu": {},
      "number_sections": false,
      "sideBar": true,
      "skip_h1_title": false,
      "title_cell": "Table of Contents",
      "title_sidebar": "Contents",
      "toc_cell": false,
      "toc_position": {},
      "toc_section_display": true,
      "toc_window_display": false
    },
    "varInspector": {
      "cols": {
        "lenName": 16,
        "lenType": 16,
        "lenVar": 40
      },
      "kernels_config": {
        "python": {
          "delete_cmd_postfix": "",
          "delete_cmd_prefix": "del ",
          "library": "var_list.py",
          "varRefreshCmd": "print(var_dic_list())"
        },
        "r": {
          "delete_cmd_postfix": ") ",
          "delete_cmd_prefix": "rm(",
          "library": "var_list.r",
          "varRefreshCmd": "cat(var_dic_list()) "
        }
      },
      "position": {
        "height": "317px",
        "left": "1120px",
        "right": "20px",
        "top": "120px",
        "width": "300px"
      },
      "types_to_exclude": [
        "module",
        "function",
        "builtin_function_or_method",
        "instance",
        "_Feature"
      ],
      "window_display": false
    }
  },
  "nbformat": 4,
  "nbformat_minor": 1
}