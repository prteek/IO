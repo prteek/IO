{
  "cells": [
    {
      "metadata": {
        "trusted": false
      },
      "cell_type": "code",
      "source": "import os\nos.system('pip install -U -r requirements.txt')\n\nimport numpy as np\nimport matplotlib.pyplot as plt\nfrom sklearn.linear_model import SGDClassifier\nfrom scipy.stats import norm\n",
      "execution_count": 42,
      "outputs": []
    },
    {
      "metadata": {
        "trusted": false
      },
      "cell_type": "code",
      "source": "np.random.seed(2)\nx0 = np.random.normal(0,1,(100,1))\nx1 = np.random.normal(2,1,(10000,1))\n\ny0  = np.zeros((100,1))\ny1  = np.ones((10000,1))\n\nx = np.concatenate((x0,x1), axis=0)\ny = np.concatenate((y0,y1), axis=0)\n",
      "execution_count": 43,
      "outputs": []
    },
    {
      "metadata": {
        "trusted": false
      },
      "cell_type": "code",
      "source": "sgd_clf = SGDClassifier()\nsgd_clf.fit(x, y.ravel())\n",
      "execution_count": 44,
      "outputs": [
        {
          "data": {
            "text/plain": "SGDClassifier(alpha=0.0001, average=False, class_weight=None,\n       early_stopping=False, epsilon=0.1, eta0=0.0, fit_intercept=True,\n       l1_ratio=0.15, learning_rate='optimal', loss='hinge', max_iter=None,\n       n_iter=None, n_iter_no_change=5, n_jobs=None, penalty='l2',\n       power_t=0.5, random_state=None, shuffle=True, tol=None,\n       validation_fraction=0.1, verbose=0, warm_start=False)"
          },
          "execution_count": 44,
          "metadata": {},
          "output_type": "execute_result"
        }
      ]
    },
    {
      "metadata": {
        "trusted": false
      },
      "cell_type": "code",
      "source": "x_new = np.arange(-5,5,0.01)\ny_predict = [sgd_clf.predict([[x_n]]) for x_n in x_new]\n\nplt.scatter(x_new, y_predict), plt.title(\"Class definition for range of x's\")\nplt.grid(), plt.show()\n",
      "execution_count": 45,
      "outputs": [
        {
          "data": {
            "image/png": "[encoded data removed]",
            "text/plain": "<Figure size 432x288 with 1 Axes>"
          },
          "metadata": {
            "needs_background": "light"
          },
          "output_type": "display_data"
        },
        {
          "data": {
            "text/plain": "(None, None)"
          },
          "execution_count": 45,
          "metadata": {},
          "output_type": "execute_result"
        }
      ]
    },
    {
      "metadata": {
        "trusted": false
      },
      "cell_type": "code",
      "source": "mu0, std0 = norm.fit(x0)\nmu1, std1 = norm.fit(x1)\n\nx_new_instance            = -2\nlikelihood_of_class0      = norm.pdf(x_new_instance, mu0, std0)\nlikelihood_of_class1      = norm.pdf(x_new_instance, mu1, std1)\nprint(likelihood_of_class0, likelihood_of_class1)",
      "execution_count": 48,
      "outputs": [
        {
          "name": "stdout",
          "output_type": "stream",
          "text": "(0.07228926170273062, 0.0001423009001763983)\n"
        }
      ]
    },
    {
      "metadata": {
        "trusted": false
      },
      "cell_type": "code",
      "source": "\ntot             = 10000+100\nprior_of_class0 = 100/tot\nprior_of_class1 = 10000/tot\nprint('Bayesian probability of ' + str(x_new_instance)+ ' being in class 0')\nprint(prior_of_class0*likelihood_of_class0/(prior_of_class0*likelihood_of_class0 + prior_of_class1*likelihood_of_class1))\n",
      "execution_count": 53,
      "outputs": [
        {
          "name": "stdout",
          "output_type": "stream",
          "text": "Bayesian probability of -2 being in class 0\n0.8355270845806692\n"
        }
      ]
    }
  ],
  "metadata": {
    "kernelspec": {
      "name": "python3",
      "display_name": "Python 3",
      "language": "python"
    },
    "language_info": {
      "codemirror_mode": {
        "name": "ipython",
        "version": 2
      },
      "file_extension": ".py",
      "mimetype": "text/x-python",
      "name": "python",
      "nbconvert_exporter": "python",
      "pygments_lexer": "ipython2",
      "version": "2.7.17"
    }
  },
  "nbformat": 4,
  "nbformat_minor": 2
}