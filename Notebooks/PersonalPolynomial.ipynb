{
  "cells": [
    {
      "metadata": {
        "colab_type": "text",
        "id": "JvlYVNfzTe-c"
      },
      "cell_type": "markdown",
      "source": "# Personal polynomial"
    },
    {
      "metadata": {
        "colab_type": "code",
        "id": "GqvfwDQ3Te-i",
        "colab": {},
        "trusted": true
      },
      "cell_type": "code",
      "source": "name = \"Prateek\"",
      "execution_count": 2,
      "outputs": []
    },
    {
      "metadata": {
        "colab_type": "code",
        "id": "ZJdtQZIITe-u",
        "colab": {},
        "trusted": true
      },
      "cell_type": "code",
      "source": "import string\nimport matplotlib.pyplot as plt\nimport numpy as np\nfrom fractions import Fraction\n\n# extract only alphabets from name (just in case)\nname_lower           = [char for char in name.lower() if char.isalpha()]\ndegree_of_poly       = len(name_lower) -1\n\nalphabets            = list(string.ascii_lowercase)\n\ny = [i+1 for letter in name_lower for i, alphabet in enumerate(alphabets) if letter==alphabet]\nx = [i+1 for i in range(degree_of_poly+1)]\n\nz = np.polyfit(x, y, degree_of_poly)\ncoefficients = [str(round(Fraction(i),3)) for i in z]\n\nf = np.poly1d(z)\n# calculate new x's and y's\nx_new = np.linspace(x[0], x[-1], 50)\ny_new = f(x_new)\n\n\nplt.scatter(x,y)\n# label each point\nfor letter, x_i, y_i in zip(name_lower,x,y):\n    plt.annotate(letter, \n                 xy=(x_i,y_i), # Put the label with its point\n                 xytext=(10,-10), # but slightly offset\n                 textcoords='offset points')\nplt.plot(x_new, y_new)\nplt.title(\"Your personal polynomial\")\nplt.grid()",
      "execution_count": 3,
      "outputs": [
        {
          "output_type": "display_data",
          "data": {
            "image/png": "[encoded data removed]",
            "text/plain": "<matplotlib.figure.Figure at 0x7fe70a0bd6d8>"
          },
          "metadata": {}
        }
      ]
    },
    {
      "metadata": {
        "colab_type": "code",
        "id": "yw-Qy8StTe-2",
        "outputId": "d9b93f4b-60ef-4def-f8b4-4888a827bb03",
        "colab": {},
        "trusted": true
      },
      "cell_type": "code",
      "source": "string = \"\"\nfor i, coeff in enumerate(coefficients):\n    string = string + coeff + \" x**\" + str(degree_of_poly-i) + \" + \"\n\nstring = string[:-7]\n\nprint(\"Your Personal Polynomial:\", string)",
      "execution_count": 4,
      "outputs": [
        {
          "output_type": "stream",
          "text": "Your Personal Polynomial: -117/200 x**6 + 1789/125 x**5 + -27607/200 x**4 + 331927/500 x**3 + -1653881/1000 x**2 + 1980333/1000 x**1 + -850 \n",
          "name": "stdout"
        }
      ]
    }
  ],
  "metadata": {
    "colab": {
      "name": "PersonalPolynomial.ipynb",
      "provenance": [],
      "collapsed_sections": [],
      "toc_visible": true,
      "include_colab_link": true
    },
    "kernelspec": {
      "name": "python3",
      "display_name": "Python 3",
      "language": "python"
    },
    "language_info": {
      "mimetype": "text/x-python",
      "nbconvert_exporter": "python",
      "name": "python",
      "file_extension": ".py",
      "version": "3.5.4",
      "pygments_lexer": "ipython3",
      "codemirror_mode": {
        "version": 3,
        "name": "ipython"
      }
    },
    "toc": {
      "base_numbering": 1,
      "nav_menu": {},
      "number_sections": false,
      "sideBar": true,
      "skip_h1_title": false,
      "title_cell": "Table of Contents",
      "title_sidebar": "Contents",
      "toc_cell": false,
      "toc_position": {},
      "toc_section_display": true,
      "toc_window_display": false
    },
    "varInspector": {
      "cols": {
        "lenName": 16,
        "lenType": 16,
        "lenVar": 40
      },
      "kernels_config": {
        "python": {
          "delete_cmd_postfix": "",
          "delete_cmd_prefix": "del ",
          "library": "var_list.py",
          "varRefreshCmd": "print(var_dic_list())"
        },
        "r": {
          "delete_cmd_postfix": ") ",
          "delete_cmd_prefix": "rm(",
          "library": "var_list.r",
          "varRefreshCmd": "cat(var_dic_list()) "
        }
      },
      "types_to_exclude": [
        "module",
        "function",
        "builtin_function_or_method",
        "instance",
        "_Feature"
      ],
      "window_display": false
    }
  },
  "nbformat": 4,
  "nbformat_minor": 1
}