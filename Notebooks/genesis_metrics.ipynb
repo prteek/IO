{
  "cells": [
    {
      "metadata": {
        "colab_type": "text",
        "id": "-3u9Fi9-fR0K"
      },
      "cell_type": "markdown",
      "source": "# Dash coin"
    },
    {
      "metadata": {
        "trusted": true
      },
      "cell_type": "code",
      "source": "import os\nos.system('pip install -U -r requirements.txt')\n\nimport numpy as np\nimport matplotlib.pyplot as plt\nimport math\n",
      "execution_count": 1,
      "outputs": []
    },
    {
      "metadata": {
        "colab_type": "code",
        "id": "jL3rHWxFfR0L",
        "colab": {},
        "trusted": true
      },
      "cell_type": "code",
      "source": "# User input *Refer https://www.coinwarz.com/cryptocurrency/coins/dash\ncurrentPrice       = 55; # [$/coin]\ncalculationPeriod  = 1; # [days]\nhashRate           = 10500e6; # [Hashes/sec]\nblockReward        = 1.67279914; # [coins/block]\ndifficulty         = 102015138.1383; # [-]\nmaintenanceFee     = 0.000029; # [$/MH/day] \ncontractPrice      = 247; # [$]\ncontractDuration   = 2; # [years]\n",
      "execution_count": 8,
      "outputs": []
    },
    {
      "metadata": {
        "colab_type": "code",
        "id": "dTRAFaudfR0Q",
        "colab": {},
        "trusted": true
      },
      "cell_type": "code",
      "source": "# Calculations\n\ndef estimatedProfitPerPeriod(currentPrice, calculationPeriod, hashRate, blockReward, difficulty, maintenanceFee):\n    secondsInCalculationPeriod  = 3600*24*calculationPeriod; # [sec]\n    totalMaintenanceFee         = float(hashRate)*maintenanceFee/1000000*calculationPeriod; # [$]\n    coinsPerPeriod              = float(hashRate)*float(secondsInCalculationPeriod)*blockReward/(difficulty*float(2**32))\n    estimatedProfit             = round(coinsPerPeriod*currentPrice - totalMaintenanceFee,2); # [$]\n    return estimatedProfit\n\nestimatedProfitVectorized   = np.vectorize(estimatedProfitPerPeriod);\n\nestimatedProfitPerDay       = estimatedProfitPerPeriod(currentPrice, calculationPeriod, hashRate, blockReward, difficulty, maintenanceFee);\nestimatedARR                = (abs(estimatedProfitPerDay*contractDuration*365/calculationPeriod - contractPrice)/contractPrice)**(1/contractDuration)*np.sign(estimatedProfitPerDay*contractDuration*365/calculationPeriod - contractPrice)\n",
      "execution_count": 9,
      "outputs": []
    },
    {
      "metadata": {
        "colab_type": "code",
        "id": "28kCijU9fR0T",
        "outputId": "60e08364-5579-4e72-8358-b27ca5d12234",
        "colab": {
          "base_uri": "https://localhost:8080/",
          "height": 51
        },
        "trusted": true
      },
      "cell_type": "code",
      "source": "# Results\nprint(\"Profit per Day:\", estimatedProfitPerDay)\nprint(\"Estimated ARR of Contract:\", estimatedARR)",
      "execution_count": 10,
      "outputs": [
        {
          "output_type": "stream",
          "text": "Profit per Day: -0.11\nEstimated ARR of Contract: -1.1511304072844653\n",
          "name": "stdout"
        }
      ]
    },
    {
      "metadata": {
        "colab_type": "text",
        "id": "tUz_RvfHfR0Y"
      },
      "cell_type": "markdown",
      "source": "##### A new contract opened up after 1 year and the cost of investment was 55$. Because the current contract output can be re invested into this new contract an assessment of profitability had to be made"
    },
    {
      "metadata": {
        "colab_type": "code",
        "id": "OE9TZKPtfR0Z",
        "colab": {},
        "trusted": true
      },
      "cell_type": "code",
      "source": "# Inputs\npriceAtTheTimeOfInvestment = 131; # [$]\ninitialInvestment          = 55; # [$]\nnewHashRate                = 5000e6*2; # [Hashes/sec]\nnewMaintenanceFee          = 0.00001; # [$/MH/day] \nnewContractDuration        = 2; # [years]\ntimeLeftForCurrentContract = 1; # [years]\n",
      "execution_count": 11,
      "outputs": []
    },
    {
      "metadata": {
        "colab_type": "code",
        "id": "AGyiK3sUfR0b",
        "colab": {},
        "trusted": true
      },
      "cell_type": "code",
      "source": "# Calculations\ninitialValueOfCurrentContract                = initialInvestment/priceAtTheTimeOfInvestment*currentPrice; # [$]\ninitialValueOfNewContractAtStart             = 0; # [$]\nestimatedProfitPerDayNewContract             = estimatedProfitPerPeriod(currentPrice, calculationPeriod, newHashRate, blockReward, difficulty, newMaintenanceFee);\ntimeCurrentContract                          = [i for i in range(timeLeftForCurrentContract*365)]; # [days]\ntimeNewContractAfterCurrentContractExpires   = [i for i in range((newContractDuration - timeLeftForCurrentContract)*365)]; # [days]\n\nprofitCurrentContract                        = initialValueOfCurrentContract + estimatedProfitVectorized(currentPrice, timeCurrentContract, hashRate, blockReward, difficulty, maintenanceFee);\nprofitNewContractCommonTime                  = profitCurrentContract - initialValueOfCurrentContract + initialValueOfNewContractAtStart + estimatedProfitVectorized(currentPrice, timeCurrentContract, newHashRate, blockReward, difficulty, newMaintenanceFee);\nprofitNewContractAfterCurrentContractExpires = profitNewContractCommonTime[-1] + estimatedProfitVectorized(currentPrice, timeNewContractAfterCurrentContractExpires, newHashRate, blockReward, difficulty, newMaintenanceFee);\nprofitNewContract                            = [*profitNewContractCommonTime, *profitNewContractAfterCurrentContractExpires]; # [$]\ntimeNewContract                              = [i for i in range(newContractDuration*365)];\n",
      "execution_count": 12,
      "outputs": []
    },
    {
      "metadata": {
        "colab_type": "code",
        "id": "VZiYWz1CfR0g",
        "outputId": "e6933315-7179-47f3-ecd6-3307276bbc68",
        "colab": {
          "base_uri": "https://localhost:8080/",
          "height": 296
        },
        "trusted": true
      },
      "cell_type": "code",
      "source": "# Comparison of profitability\nplt.plot(timeCurrentContract, profitCurrentContract, label='Current Contract')\nplt.plot(timeNewContract, profitNewContract, label='New Contract')\nplt.title(\"Comparison of profitability of Contracts\", size=14)\nplt.xlabel(\"Number of Days\")\nplt.ylabel(\"Profit in $\")\nplt.legend(loc='lower right')\nplt.grid()\n",
      "execution_count": 13,
      "outputs": [
        {
          "output_type": "display_data",
          "data": {
            "image/png": "[encoded data removed]",
            "text/plain": "<matplotlib.figure.Figure at 0x7fdb1307ab38>"
          },
          "metadata": {}
        }
      ]
    }
  ],
  "metadata": {
    "colab": {
      "name": "genesis_metrics.ipynb",
      "provenance": [],
      "collapsed_sections": []
    },
    "kernelspec": {
      "name": "python3",
      "display_name": "Python 3",
      "language": "python"
    },
    "language_info": {
      "mimetype": "text/x-python",
      "nbconvert_exporter": "python",
      "name": "python",
      "pygments_lexer": "ipython3",
      "version": "3.5.4",
      "file_extension": ".py",
      "codemirror_mode": {
        "version": 3,
        "name": "ipython"
      }
    },
    "toc": {
      "base_numbering": 1,
      "nav_menu": {},
      "number_sections": false,
      "sideBar": true,
      "skip_h1_title": false,
      "title_cell": "Table of Contents",
      "title_sidebar": "Contents",
      "toc_cell": false,
      "toc_position": {},
      "toc_section_display": true,
      "toc_window_display": false
    },
    "varInspector": {
      "cols": {
        "lenName": 16,
        "lenType": 16,
        "lenVar": 40
      },
      "kernels_config": {
        "python": {
          "delete_cmd_postfix": "",
          "delete_cmd_prefix": "del ",
          "library": "var_list.py",
          "varRefreshCmd": "print(var_dic_list())"
        },
        "r": {
          "delete_cmd_postfix": ") ",
          "delete_cmd_prefix": "rm(",
          "library": "var_list.r",
          "varRefreshCmd": "cat(var_dic_list()) "
        }
      },
      "position": {
        "height": "292px",
        "left": "1063px",
        "right": "20px",
        "top": "119px",
        "width": "357px"
      },
      "types_to_exclude": [
        "module",
        "function",
        "builtin_function_or_method",
        "instance",
        "_Feature"
      ],
      "window_display": false
    }
  },
  "nbformat": 4,
  "nbformat_minor": 1
}